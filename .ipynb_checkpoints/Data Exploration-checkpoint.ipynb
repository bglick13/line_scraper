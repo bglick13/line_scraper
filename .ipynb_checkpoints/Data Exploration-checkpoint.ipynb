{
 "cells": [
  {
   "cell_type": "code",
   "execution_count": 39,
   "metadata": {
    "collapsed": false
   },
   "outputs": [],
   "source": [
    "import pandas as pd\n",
    "import sys\n",
    "sys.path.append(\"../PycharmProjects/line_scraper\")\n",
    "from sklearn.metrics import mean_squared_error as mse\n",
    "import matplotlib.pyplot as plt\n",
    "%matplotlib inline\n",
    "from dash_app.data_util import build_flat_dataset, build_sequence_dataset\n",
    "from keras.models import Sequential\n",
    "from keras.layers import Dense, Dropout, Activation\n",
    "from keras.layers import Embedding\n",
    "from keras.layers import LSTM\n",
    "from sklearn.metrics import mean_squared_error as mse\n"
   ]
  },
  {
   "cell_type": "code",
   "execution_count": 40,
   "metadata": {
    "collapsed": false
   },
   "outputs": [],
   "source": [
    "from dash_app.data_util import *"
   ]
  },
  {
   "cell_type": "code",
   "execution_count": 41,
   "metadata": {
    "collapsed": false
   },
   "outputs": [],
   "source": [
    "\n",
    "\n",
    "def build_model(input_shape):\n",
    "    model = Sequential()\n",
    "    model.add(LSTM(units=128, activation='sigmoid', inner_activation='hard_sigmoid', input_shape=input_shape))\n",
    "    model.add(Dropout(0.5))\n",
    "    model.add(Dense(1))\n",
    "    model.add(Activation('sigmoid'))\n",
    "\n",
    "    model.compile(loss='mean_squared_error', optimizer='rmsprop')\n",
    "    return model\n",
    "\n",
    "\n",
    "def run_model(X, y):\n",
    "    input_shape = X.shape[1:]\n",
    "\n",
    "    model = build_model(input_shape)\n",
    "    base_x, base_y = build_flat_dataset()\n",
    "    print(X.shape)\n",
    "    model.fit(X[:N], y[:N], batch_size=128, epochs=1000, verbose=False)\n",
    "    pred = model.predict(X[N:])\n",
    "    true = y[N:]\n",
    "\n",
    "    print(\"MSE: {}\".format(mse(true, pred)))\n",
    "    print(\"Baseline MSE: {}\".format(mse(base_y, base_x.mean(axis=1))))\n",
    "    return true, pred\n",
    "\n",
    "N = int(2*len(X)/3.) \n",
    "X, y = build_sequence_dataset(sequence_length=10)"
   ]
  },
  {
   "cell_type": "code",
   "execution_count": 35,
   "metadata": {
    "collapsed": false,
    "scrolled": true
   },
   "outputs": [
    {
     "name": "stderr",
     "output_type": "stream",
     "text": [
      "/home/ben/anaconda3/envs/py35/lib/python3.5/site-packages/ipykernel/__main__.py:5: UserWarning: Update your `LSTM` call to the Keras 2 API: `LSTM(activation=\"sigmoid\", recurrent_activation=\"hard_sigmoid\", input_shape=(11, 23), units=128)`\n"
     ]
    },
    {
     "name": "stdout",
     "output_type": "stream",
     "text": [
      "(1815, 11, 23)\n",
      "Epoch 1/100\n",
      "1210/1210 [==============================] - 0s 133us/step - loss: 0.2632\n",
      "Epoch 2/100\n",
      "1210/1210 [==============================] - 0s 118us/step - loss: 0.2615\n",
      "Epoch 3/100\n",
      "1210/1210 [==============================] - 0s 120us/step - loss: 0.2609\n",
      "Epoch 4/100\n",
      "1210/1210 [==============================] - 0s 119us/step - loss: 0.2586\n",
      "Epoch 5/100\n",
      "1210/1210 [==============================] - 0s 119us/step - loss: 0.2567\n",
      "Epoch 6/100\n",
      "1210/1210 [==============================] - 0s 116us/step - loss: 0.2594\n",
      "Epoch 7/100\n",
      "1210/1210 [==============================] - 0s 115us/step - loss: 0.2556\n",
      "Epoch 8/100\n",
      "1210/1210 [==============================] - 0s 115us/step - loss: 0.2554\n",
      "Epoch 9/100\n",
      "1210/1210 [==============================] - 0s 115us/step - loss: 0.2551\n",
      "Epoch 10/100\n",
      "1210/1210 [==============================] - 0s 117us/step - loss: 0.2588\n",
      "Epoch 11/100\n",
      "1210/1210 [==============================] - 0s 114us/step - loss: 0.2584\n",
      "Epoch 12/100\n",
      "1210/1210 [==============================] - 0s 115us/step - loss: 0.2574\n",
      "Epoch 13/100\n",
      "1210/1210 [==============================] - 0s 115us/step - loss: 0.2573\n",
      "Epoch 14/100\n",
      "1210/1210 [==============================] - 0s 115us/step - loss: 0.2556\n",
      "Epoch 15/100\n",
      "1210/1210 [==============================] - 0s 116us/step - loss: 0.2541\n",
      "Epoch 16/100\n",
      "1210/1210 [==============================] - 0s 114us/step - loss: 0.2536\n",
      "Epoch 17/100\n",
      "1210/1210 [==============================] - 0s 120us/step - loss: 0.2532\n",
      "Epoch 18/100\n",
      "1210/1210 [==============================] - 0s 115us/step - loss: 0.2558\n",
      "Epoch 19/100\n",
      "1210/1210 [==============================] - 0s 114us/step - loss: 0.2546\n",
      "Epoch 20/100\n",
      "1210/1210 [==============================] - 0s 114us/step - loss: 0.2535\n",
      "Epoch 21/100\n",
      "1210/1210 [==============================] - 0s 116us/step - loss: 0.2533\n",
      "Epoch 22/100\n",
      "1210/1210 [==============================] - 0s 114us/step - loss: 0.2529\n",
      "Epoch 23/100\n",
      "1210/1210 [==============================] - 0s 115us/step - loss: 0.2515\n",
      "Epoch 24/100\n",
      "1210/1210 [==============================] - 0s 115us/step - loss: 0.2532\n",
      "Epoch 25/100\n",
      "1210/1210 [==============================] - 0s 116us/step - loss: 0.2533\n",
      "Epoch 26/100\n",
      "1210/1210 [==============================] - 0s 116us/step - loss: 0.2525\n",
      "Epoch 27/100\n",
      "1210/1210 [==============================] - 0s 117us/step - loss: 0.2527\n",
      "Epoch 28/100\n",
      "1210/1210 [==============================] - 0s 118us/step - loss: 0.2522\n",
      "Epoch 29/100\n",
      "1210/1210 [==============================] - 0s 123us/step - loss: 0.2546\n",
      "Epoch 30/100\n",
      "1210/1210 [==============================] - 0s 127us/step - loss: 0.2492\n",
      "Epoch 31/100\n",
      "1210/1210 [==============================] - 0s 126us/step - loss: 0.2555\n",
      "Epoch 32/100\n",
      "1210/1210 [==============================] - 0s 124us/step - loss: 0.2520\n",
      "Epoch 33/100\n",
      "1210/1210 [==============================] - 0s 120us/step - loss: 0.2547\n",
      "Epoch 34/100\n",
      "1210/1210 [==============================] - 0s 127us/step - loss: 0.2505\n",
      "Epoch 35/100\n",
      "1210/1210 [==============================] - 0s 119us/step - loss: 0.2528\n",
      "Epoch 36/100\n",
      "1210/1210 [==============================] - 0s 123us/step - loss: 0.2519\n",
      "Epoch 37/100\n",
      "1210/1210 [==============================] - 0s 128us/step - loss: 0.2532\n",
      "Epoch 38/100\n",
      "1210/1210 [==============================] - 0s 119us/step - loss: 0.2531\n",
      "Epoch 39/100\n",
      "1210/1210 [==============================] - 0s 129us/step - loss: 0.2505\n",
      "Epoch 40/100\n",
      "1210/1210 [==============================] - 0s 118us/step - loss: 0.2507\n",
      "Epoch 41/100\n",
      "1210/1210 [==============================] - 0s 125us/step - loss: 0.2522\n",
      "Epoch 42/100\n",
      "1210/1210 [==============================] - 0s 124us/step - loss: 0.2513\n",
      "Epoch 43/100\n",
      "1210/1210 [==============================] - 0s 114us/step - loss: 0.2532\n",
      "Epoch 44/100\n",
      "1210/1210 [==============================] - 0s 127us/step - loss: 0.2510\n",
      "Epoch 45/100\n",
      "1210/1210 [==============================] - 0s 125us/step - loss: 0.2520\n",
      "Epoch 46/100\n",
      "1210/1210 [==============================] - 0s 117us/step - loss: 0.2516\n",
      "Epoch 47/100\n",
      "1210/1210 [==============================] - 0s 126us/step - loss: 0.2504\n",
      "Epoch 48/100\n",
      "1210/1210 [==============================] - 0s 123us/step - loss: 0.2524\n",
      "Epoch 49/100\n",
      "1210/1210 [==============================] - 0s 125us/step - loss: 0.2505\n",
      "Epoch 50/100\n",
      "1210/1210 [==============================] - 0s 124us/step - loss: 0.2511\n",
      "Epoch 51/100\n",
      "1210/1210 [==============================] - 0s 120us/step - loss: 0.2524\n",
      "Epoch 52/100\n",
      "1210/1210 [==============================] - 0s 128us/step - loss: 0.2506\n",
      "Epoch 53/100\n",
      "1210/1210 [==============================] - 0s 114us/step - loss: 0.2514\n",
      "Epoch 54/100\n",
      "1210/1210 [==============================] - 0s 124us/step - loss: 0.2519\n",
      "Epoch 55/100\n",
      "1210/1210 [==============================] - 0s 129us/step - loss: 0.2510\n",
      "Epoch 56/100\n",
      "1210/1210 [==============================] - 0s 122us/step - loss: 0.2506\n",
      "Epoch 57/100\n",
      "1210/1210 [==============================] - 0s 127us/step - loss: 0.2498\n",
      "Epoch 58/100\n",
      "1210/1210 [==============================] - 0s 121us/step - loss: 0.2514\n",
      "Epoch 59/100\n",
      "1210/1210 [==============================] - 0s 126us/step - loss: 0.2506\n",
      "Epoch 60/100\n",
      "1210/1210 [==============================] - 0s 123us/step - loss: 0.2508\n",
      "Epoch 61/100\n",
      "1210/1210 [==============================] - 0s 116us/step - loss: 0.2510\n",
      "Epoch 62/100\n",
      "1210/1210 [==============================] - 0s 117us/step - loss: 0.2522\n",
      "Epoch 63/100\n",
      "1210/1210 [==============================] - 0s 116us/step - loss: 0.2509\n",
      "Epoch 64/100\n",
      "1210/1210 [==============================] - 0s 115us/step - loss: 0.2494\n",
      "Epoch 65/100\n",
      "1210/1210 [==============================] - 0s 117us/step - loss: 0.2496\n",
      "Epoch 66/100\n",
      "1210/1210 [==============================] - 0s 115us/step - loss: 0.2495\n",
      "Epoch 67/100\n",
      "1210/1210 [==============================] - 0s 123us/step - loss: 0.2506\n",
      "Epoch 68/100\n",
      "1210/1210 [==============================] - 0s 121us/step - loss: 0.2513\n",
      "Epoch 69/100\n",
      "1210/1210 [==============================] - 0s 120us/step - loss: 0.2501\n",
      "Epoch 70/100\n",
      "1210/1210 [==============================] - 0s 127us/step - loss: 0.2513\n",
      "Epoch 71/100\n",
      "1210/1210 [==============================] - 0s 125us/step - loss: 0.2494\n",
      "Epoch 72/100\n",
      "1210/1210 [==============================] - 0s 117us/step - loss: 0.2504\n",
      "Epoch 73/100\n",
      "1210/1210 [==============================] - 0s 123us/step - loss: 0.2510\n",
      "Epoch 74/100\n",
      "1210/1210 [==============================] - 0s 123us/step - loss: 0.2497\n",
      "Epoch 75/100\n",
      "1210/1210 [==============================] - 0s 118us/step - loss: 0.2507\n",
      "Epoch 76/100\n",
      "1210/1210 [==============================] - 0s 125us/step - loss: 0.2481\n",
      "Epoch 77/100\n",
      "1210/1210 [==============================] - 0s 121us/step - loss: 0.2496\n",
      "Epoch 78/100\n",
      "1210/1210 [==============================] - 0s 124us/step - loss: 0.2491\n",
      "Epoch 79/100\n",
      "1210/1210 [==============================] - 0s 128us/step - loss: 0.2488\n",
      "Epoch 80/100\n",
      "1210/1210 [==============================] - 0s 119us/step - loss: 0.2479\n",
      "Epoch 81/100\n",
      "1210/1210 [==============================] - 0s 127us/step - loss: 0.2492\n",
      "Epoch 82/100\n",
      "1210/1210 [==============================] - 0s 119us/step - loss: 0.2494\n",
      "Epoch 83/100\n",
      "1210/1210 [==============================] - 0s 123us/step - loss: 0.2487\n",
      "Epoch 84/100\n",
      "1210/1210 [==============================] - 0s 125us/step - loss: 0.2486\n",
      "Epoch 85/100\n",
      "1210/1210 [==============================] - 0s 118us/step - loss: 0.2519\n",
      "Epoch 86/100\n",
      "1210/1210 [==============================] - 0s 124us/step - loss: 0.2485\n",
      "Epoch 87/100\n",
      "1210/1210 [==============================] - 0s 124us/step - loss: 0.2490\n",
      "Epoch 88/100\n",
      "1210/1210 [==============================] - 0s 120us/step - loss: 0.2494\n",
      "Epoch 89/100\n",
      "1210/1210 [==============================] - 0s 126us/step - loss: 0.2489\n",
      "Epoch 90/100\n",
      "1210/1210 [==============================] - 0s 118us/step - loss: 0.2482\n",
      "Epoch 91/100\n",
      "1210/1210 [==============================] - 0s 119us/step - loss: 0.2485\n",
      "Epoch 92/100\n",
      "1210/1210 [==============================] - 0s 122us/step - loss: 0.2482\n",
      "Epoch 93/100\n",
      "1210/1210 [==============================] - 0s 117us/step - loss: 0.2479\n",
      "Epoch 94/100\n",
      "1210/1210 [==============================] - 0s 116us/step - loss: 0.2486\n",
      "Epoch 95/100\n",
      "1210/1210 [==============================] - 0s 126us/step - loss: 0.2490\n",
      "Epoch 96/100\n",
      "1210/1210 [==============================] - 0s 125us/step - loss: 0.2462\n",
      "Epoch 97/100\n",
      "1210/1210 [==============================] - 0s 127us/step - loss: 0.2474\n",
      "Epoch 98/100\n",
      "1210/1210 [==============================] - 0s 124us/step - loss: 0.2469\n",
      "Epoch 99/100\n",
      "1210/1210 [==============================] - 0s 124us/step - loss: 0.2465\n",
      "Epoch 100/100\n",
      "1210/1210 [==============================] - 0s 120us/step - loss: 0.2469\n",
      "MSE: 0.23746015969382925\n",
      "Baseline MSE: 0.2632444959116443\n"
     ]
    }
   ],
   "source": [
    "true, pred = run_model(X, y)"
   ]
  },
  {
   "cell_type": "code",
   "execution_count": 36,
   "metadata": {
    "collapsed": false
   },
   "outputs": [
    {
     "data": {
      "text/plain": [
       "<matplotlib.collections.PathCollection at 0x7f935c911c88>"
      ]
     },
     "execution_count": 36,
     "metadata": {},
     "output_type": "execute_result"
    },
    {
     "data": {
      "image/png": "[encoded data removed]",
      "text/plain": [
       "<matplotlib.figure.Figure at 0x7f935c958550>"
      ]
     },
     "metadata": {},
     "output_type": "display_data"
    }
   ],
   "source": [
    "plt.scatter(pred, true)"
   ]
  },
  {
   "cell_type": "code",
   "execution_count": 32,
   "metadata": {
    "collapsed": false,
    "scrolled": true
   },
   "outputs": [
    {
     "data": {
      "text/plain": [
       "array([[ 0.70588,  0.71014,  0.70588,  0.6997 ,  0.6997 ,  0.70588,\n",
       "         0.70588,  0.70588,  0.70588,  0.70845,  0.70149,  0.70588,\n",
       "         0.70588,  0.70588,  0.70149,  0.70588,  0.69605,  0.69231,\n",
       "         0.7006 ,  0.6997 ,  0.71429,  0.69697,  0.70588],\n",
       "       [ 0.70588,  0.71014,  0.71014,  0.70326,  0.6997 ,  0.71014,\n",
       "         0.71014,  0.71014,  0.71014,  0.70845,  0.70149,  0.70588,\n",
       "         0.70588,  0.71014,  0.70149,  0.70588,  0.7006 ,  0.69697,\n",
       "         0.7006 ,  0.6997 ,  0.72222,  0.70588,  0.70588],\n",
       "       [ 0.70588,  0.71014,  0.71014,  0.71429,  0.70588,  0.71014,\n",
       "         0.71831,  0.71014,  0.71014,  0.70845,  0.70149,  0.71014,\n",
       "         0.70588,  0.71014,  0.70588,  0.70588,  0.71264,  0.70845,\n",
       "         0.7006 ,  0.70588,  0.72222,  0.70588,  0.70588],\n",
       "       [ 0.70588,  0.71429,  0.71014,  0.71429,  0.70588,  0.71014,\n",
       "         0.71831,  0.71014,  0.71014,  0.70845,  0.70149,  0.71014,\n",
       "         0.71014,  0.71014,  0.70588,  0.70588,  0.71264,  0.70845,\n",
       "         0.7006 ,  0.70588,  0.72222,  0.71429,  0.71014],\n",
       "       [ 0.71014,  0.71429,  0.71014,  0.71429,  0.70588,  0.71014,\n",
       "         0.71831,  0.71014,  0.71014,  0.70845,  0.70149,  0.71014,\n",
       "         0.71014,  0.71014,  0.70588,  0.70588,  0.71264,  0.70845,\n",
       "         0.70501,  0.70588,  0.72222,  0.71429,  0.71014],\n",
       "       [ 0.71014,  0.71429,  0.71014,  0.7191 ,  0.71098,  0.71014,\n",
       "         0.71831,  0.71014,  0.71014,  0.72603,  0.70149,  0.71014,\n",
       "         0.71831,  0.71014,  0.71014,  0.70588,  0.71751,  0.71429,\n",
       "         0.70501,  0.71098,  0.72222,  0.71429,  0.71014],\n",
       "       [ 0.71014,  0.72222,  0.71014,  0.7191 ,  0.71098,  0.71014,\n",
       "         0.71831,  0.71014,  0.71014,  0.72603,  0.71429,  0.71014,\n",
       "         0.71831,  0.71014,  0.71014,  0.70588,  0.71751,  0.71429,\n",
       "         0.70501,  0.71098,  0.72222,  0.71429,  0.71429],\n",
       "       [ 0.71014,  0.72222,  0.71014,  0.7191 ,  0.71098,  0.71014,\n",
       "         0.71831,  0.71014,  0.71014,  0.72603,  0.71429,  0.71014,\n",
       "         0.71831,  0.71014,  0.71014,  0.70588,  0.71751,  0.71429,\n",
       "         0.70501,  0.71098,  0.72973,  0.71429,  0.71429],\n",
       "       [ 0.71014,  0.72222,  0.71014,  0.7191 ,  0.71098,  0.71014,\n",
       "         0.71831,  0.71014,  0.71014,  0.72603,  0.71429,  0.7191 ,\n",
       "         0.71831,  0.71014,  0.71014,  0.70588,  0.71751,  0.71429,\n",
       "         0.70501,  0.71098,  0.72973,  0.71429,  0.71429],\n",
       "       [ 0.71014,  0.72222,  0.71014,  0.7191 ,  0.71831,  0.72222,\n",
       "         0.72603,  0.71014,  0.72222,  0.72603,  0.71429,  0.7191 ,\n",
       "         0.71831,  0.71014,  0.71429,  0.70588,  0.71751,  0.71429,\n",
       "         0.70501,  0.71831,  0.72973,  0.71429,  0.71429],\n",
       "       [ 0.71014,  0.72222,  0.72222,  0.7191 ,  0.71831,  0.72222,\n",
       "         0.72603,  0.71014,  0.72222,  0.72603,  0.71429,  0.7191 ,\n",
       "         0.71831,  0.71014,  0.71429,  0.70588,  0.71751,  0.71429,\n",
       "         0.70501,  0.71831,  0.72973,  0.71429,  0.71429]])"
      ]
     },
     "execution_count": 32,
     "metadata": {},
     "output_type": "execute_result"
    }
   ],
   "source": [
    "offset = 62\n",
    "X[N+offset]"
   ]
  },
  {
   "cell_type": "code",
   "execution_count": 33,
   "metadata": {
    "collapsed": false
   },
   "outputs": [
    {
     "name": "stdout",
     "output_type": "stream",
     "text": [
      "Pred: [ 0.49327019], true: 0.0\n"
     ]
    }
   ],
   "source": [
    "print(\"Pred: {}, true: {}\".format(pred[offset], true[offset]))"
   ]
  },
  {
   "cell_type": "code",
   "execution_count": 18,
   "metadata": {
    "collapsed": false
   },
   "outputs": [
    {
     "data": {
      "text/plain": [
       "(605, 11, 23)"
      ]
     },
     "execution_count": 18,
     "metadata": {},
     "output_type": "execute_result"
    }
   ],
   "source": [
    "X[N:].shape"
   ]
  },
  {
   "cell_type": "code",
   "execution_count": 23,
   "metadata": {
    "collapsed": false
   },
   "outputs": [
    {
     "data": {
      "text/plain": [
       "(11,)"
      ]
     },
     "execution_count": 23,
     "metadata": {},
     "output_type": "execute_result"
    }
   ],
   "source": [
    "X[N].mean(axis=-1).shape"
   ]
  },
  {
   "cell_type": "code",
   "execution_count": 26,
   "metadata": {
    "collapsed": false
   },
   "outputs": [
    {
     "data": {
      "text/plain": [
       "62"
      ]
     },
     "execution_count": 26,
     "metadata": {},
     "output_type": "execute_result"
    }
   ],
   "source": [
    "pred.argmax()"
   ]
  },
  {
   "cell_type": "code",
   "execution_count": null,
   "metadata": {
    "collapsed": true
   },
   "outputs": [],
   "source": []
  }
 ],
 "metadata": {
  "kernelspec": {
   "display_name": "Python 3",
   "language": "python",
   "name": "python3"
  },
  "language_info": {
   "codemirror_mode": {
    "name": "ipython",
    "version": 3
   },
   "file_extension": ".py",
   "mimetype": "text/x-python",
   "name": "python",
   "nbconvert_exporter": "python",
   "pygments_lexer": "ipython3",
   "version": "3.5.1"
  }
 },
 "nbformat": 4,
 "nbformat_minor": 2
}
