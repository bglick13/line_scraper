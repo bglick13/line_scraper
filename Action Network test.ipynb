{
 "cells": [
  {
   "cell_type": "code",
   "execution_count": 13,
   "metadata": {
    "collapsed": true
   },
   "outputs": [],
   "source": [
    "import requests\n",
    "import numpy as np\n",
    "import pandas as pd\n",
    "import datetime"
   ]
  },
  {
   "cell_type": "code",
   "execution_count": 2,
   "metadata": {
    "collapsed": true
   },
   "outputs": [],
   "source": [
    "url = 'https://api-prod.sprtactn.co/web/v1/scoreboard/nba?bookIds=1,5,24,39,42,70' "
   ]
  },
  {
   "cell_type": "code",
   "execution_count": 3,
   "metadata": {
    "collapsed": true
   },
   "outputs": [],
   "source": [
    "r = requests.get(url)"
   ]
  },
  {
   "cell_type": "code",
   "execution_count": 7,
   "metadata": {
    "collapsed": false
   },
   "outputs": [],
   "source": [
    "json = r.json()"
   ]
  },
  {
   "cell_type": "code",
   "execution_count": null,
   "metadata": {
    "collapsed": false
   },
   "outputs": [],
   "source": []
  },
  {
   "cell_type": "code",
   "execution_count": null,
   "metadata": {
    "collapsed": true
   },
   "outputs": [],
   "source": []
  },
  {
   "cell_type": "code",
   "execution_count": 9,
   "metadata": {
    "collapsed": false
   },
   "outputs": [],
   "source": [
    "games = json['games']"
   ]
  },
  {
   "cell_type": "code",
   "execution_count": 23,
   "metadata": {
    "collapsed": true
   },
   "outputs": [],
   "source": [
    "game = games[0]"
   ]
  },
  {
   "cell_type": "code",
   "execution_count": 39,
   "metadata": {
    "collapsed": false,
    "scrolled": true
   },
   "outputs": [
    {
     "data": {
      "text/plain": [
       "'2018-01-23T03:30:00.000Z'"
      ]
     },
     "execution_count": 39,
     "metadata": {},
     "output_type": "execute_result"
    }
   ],
   "source": [
    "game['start_time']"
   ]
  },
  {
   "cell_type": "code",
   "execution_count": 29,
   "metadata": {
    "collapsed": true
   },
   "outputs": [],
   "source": [
    "id_to_team = dict()\n",
    "team_to_id = dict()"
   ]
  },
  {
   "cell_type": "code",
   "execution_count": 11,
   "metadata": {
    "collapsed": false
   },
   "outputs": [],
   "source": [
    "odds = games[0]['odds']"
   ]
  },
  {
   "cell_type": "code",
   "execution_count": 40,
   "metadata": {
    "collapsed": false,
    "scrolled": true
   },
   "outputs": [],
   "source": [
    "df = dict(home_ml=[], away_ml=[], book_id=[], line_dt=[], home_id=[], away_id=[], game_id=[], game_date=[])"
   ]
  },
  {
   "cell_type": "code",
   "execution_count": 41,
   "metadata": {
    "collapsed": false,
    "scrolled": true
   },
   "outputs": [],
   "source": [
    "for game in games:\n",
    "    teams = game['teams']\n",
    "    for team in teams:\n",
    "        id_to_team[team['id']] = team['display_name']\n",
    "        team_to_id[team['display_name']] = team['id']\n",
    "    odds = game['odds']\n",
    "    for odd in odds:\n",
    "        df['home_ml'].append(odd['ml_home'])\n",
    "        df['away_ml'].append(odd['ml_away'])\n",
    "        df['book_id'].append(odd['book_id'])\n",
    "        df['line_dt'].append(odd['inserted'])\n",
    "        df['home_id'].append(game['home_team_id'])\n",
    "        df['away_id'].append(game['away_team_id'])\n",
    "        df['game_id'].append(game['id'])\n",
    "        df['game_date'].append(game['start_time'])"
   ]
  },
  {
   "cell_type": "code",
   "execution_count": 42,
   "metadata": {
    "collapsed": false
   },
   "outputs": [],
   "source": [
    "df = pd.DataFrame(df)"
   ]
  },
  {
   "cell_type": "code",
   "execution_count": 44,
   "metadata": {
    "collapsed": false
   },
   "outputs": [
    {
     "data": {
      "text/html": [
       "<div>\n",
       "<style>\n",
       "    .dataframe thead tr:only-child th {\n",
       "        text-align: right;\n",
       "    }\n",
       "\n",
       "    .dataframe thead th {\n",
       "        text-align: left;\n",
       "    }\n",
       "\n",
       "    .dataframe tbody tr th {\n",
       "        vertical-align: top;\n",
       "    }\n",
       "</style>\n",
       "<table border=\"1\" class=\"dataframe\">\n",
       "  <thead>\n",
       "    <tr style=\"text-align: right;\">\n",
       "      <th></th>\n",
       "      <th>away_id</th>\n",
       "      <th>away_ml</th>\n",
       "      <th>book_id</th>\n",
       "      <th>game_date</th>\n",
       "      <th>game_id</th>\n",
       "      <th>home_id</th>\n",
       "      <th>home_ml</th>\n",
       "      <th>line_dt</th>\n",
       "    </tr>\n",
       "  </thead>\n",
       "  <tbody>\n",
       "    <tr>\n",
       "      <th>165</th>\n",
       "      <td>171</td>\n",
       "      <td>110.0</td>\n",
       "      <td>24</td>\n",
       "      <td>2018-01-23T03:30:00.000Z</td>\n",
       "      <td>34224</td>\n",
       "      <td>184</td>\n",
       "      <td>-140.0</td>\n",
       "      <td>2018-01-22T21:16:38.312+00:00</td>\n",
       "    </tr>\n",
       "    <tr>\n",
       "      <th>166</th>\n",
       "      <td>171</td>\n",
       "      <td>-130.0</td>\n",
       "      <td>30</td>\n",
       "      <td>2018-01-23T03:30:00.000Z</td>\n",
       "      <td>34224</td>\n",
       "      <td>184</td>\n",
       "      <td>110.0</td>\n",
       "      <td>2018-01-22T21:05:51.102+00:00</td>\n",
       "    </tr>\n",
       "    <tr>\n",
       "      <th>167</th>\n",
       "      <td>171</td>\n",
       "      <td>120.0</td>\n",
       "      <td>39</td>\n",
       "      <td>2018-01-23T03:30:00.000Z</td>\n",
       "      <td>34224</td>\n",
       "      <td>184</td>\n",
       "      <td>-140.0</td>\n",
       "      <td>2018-01-22T22:01:39.118+00:00</td>\n",
       "    </tr>\n",
       "    <tr>\n",
       "      <th>169</th>\n",
       "      <td>171</td>\n",
       "      <td>120.0</td>\n",
       "      <td>42</td>\n",
       "      <td>2018-01-23T03:30:00.000Z</td>\n",
       "      <td>34224</td>\n",
       "      <td>184</td>\n",
       "      <td>-140.0</td>\n",
       "      <td>2018-01-22T22:01:39.118+00:00</td>\n",
       "    </tr>\n",
       "    <tr>\n",
       "      <th>170</th>\n",
       "      <td>171</td>\n",
       "      <td>110.0</td>\n",
       "      <td>42</td>\n",
       "      <td>2018-01-23T03:30:00.000Z</td>\n",
       "      <td>34224</td>\n",
       "      <td>184</td>\n",
       "      <td>-130.0</td>\n",
       "      <td>2018-01-22T21:16:38.312+00:00</td>\n",
       "    </tr>\n",
       "  </tbody>\n",
       "</table>\n",
       "</div>"
      ],
      "text/plain": [
       "     away_id  away_ml  book_id                 game_date  game_id  home_id  \\\n",
       "165      171    110.0       24  2018-01-23T03:30:00.000Z    34224      184   \n",
       "166      171   -130.0       30  2018-01-23T03:30:00.000Z    34224      184   \n",
       "167      171    120.0       39  2018-01-23T03:30:00.000Z    34224      184   \n",
       "169      171    120.0       42  2018-01-23T03:30:00.000Z    34224      184   \n",
       "170      171    110.0       42  2018-01-23T03:30:00.000Z    34224      184   \n",
       "\n",
       "     home_ml                        line_dt  \n",
       "165   -140.0  2018-01-22T21:16:38.312+00:00  \n",
       "166    110.0  2018-01-22T21:05:51.102+00:00  \n",
       "167   -140.0  2018-01-22T22:01:39.118+00:00  \n",
       "169   -140.0  2018-01-22T22:01:39.118+00:00  \n",
       "170   -130.0  2018-01-22T21:16:38.312+00:00  "
      ]
     },
     "execution_count": 44,
     "metadata": {},
     "output_type": "execute_result"
    }
   ],
   "source": [
    "df.dropna().tail()"
   ]
  },
  {
   "cell_type": "code",
   "execution_count": null,
   "metadata": {
    "collapsed": true
   },
   "outputs": [],
   "source": []
  }
 ],
 "metadata": {
  "kernelspec": {
   "display_name": "Python 3",
   "language": "python",
   "name": "python3"
  },
  "language_info": {
   "codemirror_mode": {
    "name": "ipython",
    "version": 3
   },
   "file_extension": ".py",
   "mimetype": "text/x-python",
   "name": "python",
   "nbconvert_exporter": "python",
   "pygments_lexer": "ipython3",
   "version": "3.5.1"
  }
 },
 "nbformat": 4,
 "nbformat_minor": 2
}
