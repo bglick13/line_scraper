{
 "cells": [
  {
   "cell_type": "code",
   "execution_count": 2,
   "metadata": {
    "collapsed": true
   },
   "outputs": [],
   "source": [
    "import pandas as pd\n",
    "import requests\n",
    "from bs4 import BeautifulSoup\n",
    "import numpy as np\n",
    "import uuid\n",
    "import datetime\n",
    "import seaborn as sns\n",
    "import matplotlib.pyplot as plt\n",
    "from tqdm import tqdm_notebook\n",
    "%matplotlib inline"
   ]
  },
  {
   "cell_type": "code",
   "execution_count": 46,
   "metadata": {
    "collapsed": true
   },
   "outputs": [],
   "source": [
    "def load_month(year, month):\n",
    "    \"\"\"\n",
    "    Loads the html page for the overview of all games in a week\n",
    "    :param year:\n",
    "    :param week:\n",
    "    :return:\n",
    "    \"\"\"\n",
    "    url = 'https://www.basketball-reference.com/leagues/NBA_{}_games-{}.html'.format(year, month)\n",
    "    print(url)\n",
    "    page = requests.get(url).text\n",
    "    return page"
   ]
  },
  {
   "cell_type": "code",
   "execution_count": 51,
   "metadata": {
    "collapsed": true
   },
   "outputs": [],
   "source": [
    "def extract_game_info(game, scores=True):\n",
    "    \"\"\"\n",
    "    Get the relevant information for a single game from the html elements\n",
    "    :param game:\n",
    "    :param scores:\n",
    "    :return:\n",
    "    \"\"\"\n",
    "    cells = game.find_all('td')\n",
    "    date = game.find('th').get_text()\n",
    "\n",
    "    time = cells[0].get_text()\n",
    "    dt = datetime.datetime.strptime(date + ' ' + time, '%a, %b %d, %Y %I:%M %p')\n",
    "    away_team = cells[1].get_text()\n",
    "    away_points = cells[2].get_text()\n",
    "    home_team = cells[3].get_text()\n",
    "    home_points = cells[4].get_text()\n",
    "\n",
    "    \n",
    "    return dt, away_team, away_points, home_team, home_points"
   ]
  },
  {
   "cell_type": "code",
   "execution_count": 52,
   "metadata": {
    "collapsed": true
   },
   "outputs": [],
   "source": [
    "def get_games(years: list = None, months: list = None):\n",
    "    \"\"\"\n",
    "    Wrapper function to get data on all games in a set of years and weeks\n",
    "    :param years:\n",
    "    :param weeks:\n",
    "    :return:\n",
    "    \"\"\"\n",
    "    output = dict(date=[], away_team=[], away_points=[], home_team=[], home_points=[], season=[], uuid=[])\n",
    "    if years is None:\n",
    "        years = range(2010, 2018)\n",
    "    if months is None:\n",
    "        months = ['october', 'november', 'december', 'january', 'february', 'march', 'april', 'may']\n",
    "\n",
    "    for year in tqdm_notebook(years):\n",
    "        for month in tqdm_notebook(months):\n",
    "            page = load_month(year, month)\n",
    "            soup = BeautifulSoup(page)\n",
    "            try:\n",
    "                games = soup.find('table', id='schedule').find('tbody').find_all('tr')\n",
    "                for game in games:\n",
    "                    try:\n",
    "                        _uuid = uuid.uuid1()\n",
    "                        date, away_team, away_points, home_team, home_points = extract_game_info(game)\n",
    "                        output['date'].append(date)\n",
    "                        output['away_team'].append(away_team)\n",
    "                        output['away_points'].append(away_points)\n",
    "                        output['home_team'].append(home_team)\n",
    "                        output['home_points'].append(home_points)\n",
    "                        output['season'].append(year)\n",
    "                        output['uuid'].append(_uuid)\n",
    "                    except IndexError:\n",
    "                        pass\n",
    "            except AttributeError:\n",
    "                pass\n",
    "\n",
    "    df = pd.DataFrame.from_dict(output, orient='columns')\n",
    "    return df"
   ]
  },
  {
   "cell_type": "code",
   "execution_count": 53,
   "metadata": {
    "collapsed": false,
    "scrolled": true
   },
   "outputs": [
    {
     "name": "stdout",
     "output_type": "stream",
     "text": [
      "https://www.basketball-reference.com/leagues/NBA_2010_games-october.html\n"
     ]
    },
    {
     "name": "stderr",
     "output_type": "stream",
     "text": [
      "/home/ben/anaconda3/envs/py35/lib/python3.5/site-packages/bs4/__init__.py:181: UserWarning: No parser was explicitly specified, so I'm using the best available HTML parser for this system (\"lxml\"). This usually isn't a problem, but if you run this code on another system, or in a different virtual environment, it may use a different parser and behave differently.\n",
      "\n",
      "The code that caused this warning is on line 170 of the file /home/ben/anaconda3/envs/py35/lib/python3.5/runpy.py. To get rid of this warning, change code that looks like this:\n",
      "\n",
      " BeautifulSoup([your markup])\n",
      "\n",
      "to this:\n",
      "\n",
      " BeautifulSoup([your markup], \"lxml\")\n",
      "\n",
      "  markup_type=markup_type))\n"
     ]
    },
    {
     "name": "stdout",
     "output_type": "stream",
     "text": [
      "https://www.basketball-reference.com/leagues/NBA_2010_games-november.html\n",
      "https://www.basketball-reference.com/leagues/NBA_2010_games-december.html\n",
      "https://www.basketball-reference.com/leagues/NBA_2010_games-january.html\n",
      "https://www.basketball-reference.com/leagues/NBA_2010_games-february.html\n",
      "https://www.basketball-reference.com/leagues/NBA_2010_games-march.html\n",
      "https://www.basketball-reference.com/leagues/NBA_2010_games-april.html\n",
      "https://www.basketball-reference.com/leagues/NBA_2010_games-may.html\n",
      "https://www.basketball-reference.com/leagues/NBA_2011_games-october.html\n",
      "https://www.basketball-reference.com/leagues/NBA_2011_games-november.html\n",
      "https://www.basketball-reference.com/leagues/NBA_2011_games-december.html\n",
      "https://www.basketball-reference.com/leagues/NBA_2011_games-january.html\n",
      "https://www.basketball-reference.com/leagues/NBA_2011_games-february.html\n",
      "https://www.basketball-reference.com/leagues/NBA_2011_games-march.html\n",
      "https://www.basketball-reference.com/leagues/NBA_2011_games-april.html\n",
      "https://www.basketball-reference.com/leagues/NBA_2011_games-may.html\n",
      "https://www.basketball-reference.com/leagues/NBA_2012_games-october.html\n",
      "https://www.basketball-reference.com/leagues/NBA_2012_games-november.html\n",
      "https://www.basketball-reference.com/leagues/NBA_2012_games-december.html\n",
      "https://www.basketball-reference.com/leagues/NBA_2012_games-january.html\n",
      "https://www.basketball-reference.com/leagues/NBA_2012_games-february.html\n",
      "https://www.basketball-reference.com/leagues/NBA_2012_games-march.html\n",
      "https://www.basketball-reference.com/leagues/NBA_2012_games-april.html\n",
      "https://www.basketball-reference.com/leagues/NBA_2012_games-may.html\n",
      "https://www.basketball-reference.com/leagues/NBA_2013_games-october.html\n",
      "https://www.basketball-reference.com/leagues/NBA_2013_games-november.html\n",
      "https://www.basketball-reference.com/leagues/NBA_2013_games-december.html\n",
      "https://www.basketball-reference.com/leagues/NBA_2013_games-january.html\n",
      "https://www.basketball-reference.com/leagues/NBA_2013_games-february.html\n",
      "https://www.basketball-reference.com/leagues/NBA_2013_games-march.html\n",
      "https://www.basketball-reference.com/leagues/NBA_2013_games-april.html\n",
      "https://www.basketball-reference.com/leagues/NBA_2013_games-may.html\n",
      "https://www.basketball-reference.com/leagues/NBA_2014_games-october.html\n",
      "https://www.basketball-reference.com/leagues/NBA_2014_games-november.html\n",
      "https://www.basketball-reference.com/leagues/NBA_2014_games-december.html\n",
      "https://www.basketball-reference.com/leagues/NBA_2014_games-january.html\n",
      "https://www.basketball-reference.com/leagues/NBA_2014_games-february.html\n",
      "https://www.basketball-reference.com/leagues/NBA_2014_games-march.html\n",
      "https://www.basketball-reference.com/leagues/NBA_2014_games-april.html\n",
      "https://www.basketball-reference.com/leagues/NBA_2014_games-may.html\n",
      "https://www.basketball-reference.com/leagues/NBA_2015_games-october.html\n",
      "https://www.basketball-reference.com/leagues/NBA_2015_games-november.html\n",
      "https://www.basketball-reference.com/leagues/NBA_2015_games-december.html\n",
      "https://www.basketball-reference.com/leagues/NBA_2015_games-january.html\n",
      "https://www.basketball-reference.com/leagues/NBA_2015_games-february.html\n",
      "https://www.basketball-reference.com/leagues/NBA_2015_games-march.html\n",
      "https://www.basketball-reference.com/leagues/NBA_2015_games-april.html\n",
      "https://www.basketball-reference.com/leagues/NBA_2015_games-may.html\n",
      "https://www.basketball-reference.com/leagues/NBA_2016_games-october.html\n",
      "https://www.basketball-reference.com/leagues/NBA_2016_games-november.html\n",
      "https://www.basketball-reference.com/leagues/NBA_2016_games-december.html\n",
      "https://www.basketball-reference.com/leagues/NBA_2016_games-january.html\n",
      "https://www.basketball-reference.com/leagues/NBA_2016_games-february.html\n",
      "https://www.basketball-reference.com/leagues/NBA_2016_games-march.html\n",
      "https://www.basketball-reference.com/leagues/NBA_2016_games-april.html\n",
      "https://www.basketball-reference.com/leagues/NBA_2016_games-may.html\n",
      "https://www.basketball-reference.com/leagues/NBA_2017_games-october.html\n",
      "https://www.basketball-reference.com/leagues/NBA_2017_games-november.html\n",
      "https://www.basketball-reference.com/leagues/NBA_2017_games-december.html\n",
      "https://www.basketball-reference.com/leagues/NBA_2017_games-january.html\n",
      "https://www.basketball-reference.com/leagues/NBA_2017_games-february.html\n",
      "https://www.basketball-reference.com/leagues/NBA_2017_games-march.html\n",
      "https://www.basketball-reference.com/leagues/NBA_2017_games-april.html\n",
      "https://www.basketball-reference.com/leagues/NBA_2017_games-may.html\n",
      "\n"
     ]
    }
   ],
   "source": [
    "games = get_games()"
   ]
  },
  {
   "cell_type": "code",
   "execution_count": 57,
   "metadata": {
    "collapsed": false
   },
   "outputs": [
    {
     "data": {
      "text/html": [
       "<div>\n",
       "<style>\n",
       "    .dataframe thead tr:only-child th {\n",
       "        text-align: right;\n",
       "    }\n",
       "\n",
       "    .dataframe thead th {\n",
       "        text-align: left;\n",
       "    }\n",
       "\n",
       "    .dataframe tbody tr th {\n",
       "        vertical-align: top;\n",
       "    }\n",
       "</style>\n",
       "<table border=\"1\" class=\"dataframe\">\n",
       "  <thead>\n",
       "    <tr style=\"text-align: right;\">\n",
       "      <th></th>\n",
       "      <th>away_points</th>\n",
       "      <th>away_team</th>\n",
       "      <th>date</th>\n",
       "      <th>home_points</th>\n",
       "      <th>home_team</th>\n",
       "      <th>season</th>\n",
       "      <th>uuid</th>\n",
       "    </tr>\n",
       "  </thead>\n",
       "  <tbody>\n",
       "    <tr>\n",
       "      <th>10204</th>\n",
       "      <td>120</td>\n",
       "      <td>Golden State Warriors</td>\n",
       "      <td>2017-05-20 21:00:00</td>\n",
       "      <td>108</td>\n",
       "      <td>San Antonio Spurs</td>\n",
       "      <td>2017</td>\n",
       "      <td>05122c2a-fdf1-11e7-a0f9-60e327966de9</td>\n",
       "    </tr>\n",
       "    <tr>\n",
       "      <th>10205</th>\n",
       "      <td>111</td>\n",
       "      <td>Boston Celtics</td>\n",
       "      <td>2017-05-21 20:30:00</td>\n",
       "      <td>108</td>\n",
       "      <td>Cleveland Cavaliers</td>\n",
       "      <td>2017</td>\n",
       "      <td>05122ffe-fdf1-11e7-a0f9-60e327966de9</td>\n",
       "    </tr>\n",
       "    <tr>\n",
       "      <th>10206</th>\n",
       "      <td>129</td>\n",
       "      <td>Golden State Warriors</td>\n",
       "      <td>2017-05-22 21:00:00</td>\n",
       "      <td>115</td>\n",
       "      <td>San Antonio Spurs</td>\n",
       "      <td>2017</td>\n",
       "      <td>051233d2-fdf1-11e7-a0f9-60e327966de9</td>\n",
       "    </tr>\n",
       "    <tr>\n",
       "      <th>10207</th>\n",
       "      <td>99</td>\n",
       "      <td>Boston Celtics</td>\n",
       "      <td>2017-05-23 20:30:00</td>\n",
       "      <td>112</td>\n",
       "      <td>Cleveland Cavaliers</td>\n",
       "      <td>2017</td>\n",
       "      <td>051237a6-fdf1-11e7-a0f9-60e327966de9</td>\n",
       "    </tr>\n",
       "    <tr>\n",
       "      <th>10208</th>\n",
       "      <td>135</td>\n",
       "      <td>Cleveland Cavaliers</td>\n",
       "      <td>2017-05-25 20:30:00</td>\n",
       "      <td>102</td>\n",
       "      <td>Boston Celtics</td>\n",
       "      <td>2017</td>\n",
       "      <td>05123b7a-fdf1-11e7-a0f9-60e327966de9</td>\n",
       "    </tr>\n",
       "  </tbody>\n",
       "</table>\n",
       "</div>"
      ],
      "text/plain": [
       "      away_points              away_team                date home_points  \\\n",
       "10204         120  Golden State Warriors 2017-05-20 21:00:00         108   \n",
       "10205         111         Boston Celtics 2017-05-21 20:30:00         108   \n",
       "10206         129  Golden State Warriors 2017-05-22 21:00:00         115   \n",
       "10207          99         Boston Celtics 2017-05-23 20:30:00         112   \n",
       "10208         135    Cleveland Cavaliers 2017-05-25 20:30:00         102   \n",
       "\n",
       "                 home_team  season                                  uuid  \n",
       "10204    San Antonio Spurs    2017  05122c2a-fdf1-11e7-a0f9-60e327966de9  \n",
       "10205  Cleveland Cavaliers    2017  05122ffe-fdf1-11e7-a0f9-60e327966de9  \n",
       "10206    San Antonio Spurs    2017  051233d2-fdf1-11e7-a0f9-60e327966de9  \n",
       "10207  Cleveland Cavaliers    2017  051237a6-fdf1-11e7-a0f9-60e327966de9  \n",
       "10208       Boston Celtics    2017  05123b7a-fdf1-11e7-a0f9-60e327966de9  "
      ]
     },
     "execution_count": 57,
     "metadata": {},
     "output_type": "execute_result"
    }
   ],
   "source": [
    "games.tail()"
   ]
  },
  {
   "cell_type": "code",
   "execution_count": 55,
   "metadata": {
    "collapsed": false
   },
   "outputs": [
    {
     "data": {
      "text/plain": [
       "10209"
      ]
     },
     "execution_count": 55,
     "metadata": {},
     "output_type": "execute_result"
    }
   ],
   "source": [
    "len(games)"
   ]
  },
  {
   "cell_type": "code",
   "execution_count": 56,
   "metadata": {
    "collapsed": true
   },
   "outputs": [],
   "source": [
    "pd.to_pickle(games, 'nba_games.pkl')"
   ]
  },
  {
   "cell_type": "code",
   "execution_count": null,
   "metadata": {
    "collapsed": true
   },
   "outputs": [],
   "source": []
  }
 ],
 "metadata": {
  "kernelspec": {
   "display_name": "Python 3",
   "language": "python",
   "name": "python3"
  },
  "language_info": {
   "codemirror_mode": {
    "name": "ipython",
    "version": 3
   },
   "file_extension": ".py",
   "mimetype": "text/x-python",
   "name": "python",
   "nbconvert_exporter": "python",
   "pygments_lexer": "ipython3",
   "version": "3.5.1"
  }
 },
 "nbformat": 4,
 "nbformat_minor": 0
}
