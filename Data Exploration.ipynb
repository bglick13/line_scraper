{
 "cells": [
  {
   "cell_type": "code",
   "execution_count": 1,
   "metadata": {
    "collapsed": false
   },
   "outputs": [
    {
     "name": "stderr",
     "output_type": "stream",
     "text": [
      "Using Theano backend.\n",
      "WARNING (theano.sandbox.cuda): The cuda backend is deprecated and will be removed in the next release (v0.10).  Please switch to the gpuarray backend. You can get more information about how to switch at this URL:\n",
      " https://github.com/Theano/Theano/wiki/Converting-to-the-new-gpu-back-end%28gpuarray%29\n",
      "\n",
      "Using gpu device 0: GeForce GTX 980 (CNMeM is disabled, cuDNN not available)\n"
     ]
    }
   ],
   "source": [
    "import pandas as pd\n",
    "import sys\n",
    "sys.path.append(\"../PycharmProjects/line_scraper\")\n",
    "from sklearn.metrics import mean_squared_error as mse\n",
    "import matplotlib.pyplot as plt\n",
    "%matplotlib inline\n",
    "from dash_app.data_util import build_flat_dataset, build_sequence_dataset\n",
    "from keras.models import Sequential\n",
    "from keras.layers import Dense, Dropout, Activation\n",
    "from keras.layers import Embedding\n",
    "from keras.layers import LSTM\n",
    "from sklearn.metrics import mean_squared_error as mse\n",
    "from sklearn.model_selection import train_test_split\n",
    "import seaborn as sns"
   ]
  },
  {
   "cell_type": "code",
   "execution_count": 2,
   "metadata": {
    "collapsed": false
   },
   "outputs": [],
   "source": [
    "from dash_app.data_util import *"
   ]
  },
  {
   "cell_type": "code",
   "execution_count": 3,
   "metadata": {
    "collapsed": true
   },
   "outputs": [],
   "source": [
    "def calc_payout(amount, line):\n",
    "    if line > 0:\n",
    "        return amount * (line / 100.)\n",
    "    elif line < 0:\n",
    "        return amount / (np.abs(line) / 100.)\n",
    "\n",
    "def prob_to_ml(p):\n",
    "    p *= 100\n",
    "    if p >= 50:\n",
    "        return -(p/(100.-p))*100.\n",
    "    else:\n",
    "        return ((100-p)/p)*100"
   ]
  },
  {
   "cell_type": "code",
   "execution_count": 4,
   "metadata": {
    "collapsed": false
   },
   "outputs": [],
   "source": [
    "bookies = ['5Dimes',\n",
    " 'Bet365',\n",
    " 'BetDSI',\n",
    " 'BetMania',\n",
    " 'BetOnline',\n",
    " 'Bookmaker',\n",
    " 'Bovada',\n",
    " 'Caesars',\n",
    " 'Consensus',\n",
    " 'GTBets',\n",
    " 'Greek',\n",
    " 'Heritage',\n",
    " 'Intertops',\n",
    " 'JustBet',\n",
    " 'LooseLines',\n",
    " 'MGM',\n",
    " 'Nitrogen',\n",
    " 'Pinnacle',\n",
    " 'Sportbet',\n",
    " 'SportsBetting',\n",
    " 'Sportsbk',\n",
    " 'Westgate',\n",
    " 'YouWager']\n",
    "white_list = set(['BetOnline, Bookmaker', 'Bovada', 'Heritage', 'JustBet', 'Nitrogen', 'Sportbet',\n",
    "                  'SportsBetting', 'YouWager'])"
   ]
  },
  {
   "cell_type": "code",
   "execution_count": 5,
   "metadata": {
    "collapsed": false
   },
   "outputs": [],
   "source": [
    "\n",
    "\n",
    "def build_model(input_shape):\n",
    "    model = Sequential()\n",
    "    model.add(LSTM(units=128, activation='sigmoid', inner_activation='hard_sigmoid',\n",
    "                   input_shape=input_shape, return_sequences=True))\n",
    "    model.add(Dropout(0.5))\n",
    "    model.add(LSTM(units=128, activation='sigmoid', inner_activation='hard_sigmoid'))\n",
    "    model.add(Dropout(0.5))\n",
    "    model.add(Dense(1))\n",
    "    model.add(Activation('sigmoid'))\n",
    "\n",
    "    model.compile(loss='mean_squared_error', optimizer='rmsprop')\n",
    "    return model\n",
    "\n",
    "\n",
    "def train_model(X, y):\n",
    "    input_shape = X.shape[1:]\n",
    "\n",
    "    model = build_model(input_shape)\n",
    "#     \n",
    "    print(X.shape)\n",
    "    model.fit(X, y, batch_size=128, epochs=100, verbose=False)\n",
    "#     pred = model.predict(X[N:])\n",
    "#     true = y[N:]\n",
    "\n",
    "\n",
    "#     \n",
    "    return model"
   ]
  },
  {
   "cell_type": "code",
   "execution_count": 18,
   "metadata": {
    "collapsed": true
   },
   "outputs": [],
   "source": [
    "def backtest(pred, home_X_test, away_X_test, y_test, games_test, tol=.03, bankroll=1000.):\n",
    "    games_bet = set([])\n",
    "    balance = [bankroll]\n",
    "    probs = []\n",
    "    for p, home_x, away_x, y, g in zip(pred, home_X_test, away_X_test, y_test, games_test):\n",
    "        if g not in games_bet:\n",
    "            home_p_diffs = p - home_x[-1]\n",
    "            away_p_diffs = (1-p) - away_x[-1]\n",
    "            if np.max(home_p_diffs) >= tol:\n",
    "                bookie = bookies[np.argmax(home_p_diffs)]\n",
    "                if bookie not in white_list:\n",
    "                    continue\n",
    "                \n",
    "                odds = home_x[-1][np.argmax(home_p_diffs)]\n",
    "                ml = prob_to_ml(odds)\n",
    "                if y == 1:\n",
    "                    bankroll += calc_payout(50, ml)\n",
    "                else:\n",
    "                    bankroll -= 50\n",
    "                \n",
    "                print(\"Betting on home team in game {} at odds {}({}) - result: {}\".format(g, odds, ml, y))\n",
    "                games_bet |= set([g])\n",
    "                balance.append(bankroll)\n",
    "                probs.append(odds)\n",
    "            elif np.max(away_p_diffs) >= tol:\n",
    "                bookie = bookies[np.argmax(away_p_diffs)]\n",
    "                if bookie not in white_list:\n",
    "                    continue\n",
    "                \n",
    "                odds = away_x[-1][np.argmax(away_p_diffs)]\n",
    "                ml = prob_to_ml(odds)\n",
    "                if y == 0:\n",
    "                    bankroll += calc_payout(50, ml)\n",
    "                else:\n",
    "                    bankroll -= 50\n",
    "                \n",
    "                print(\"Betting on away team in game {} at odds {}({}) - result: {}\".format(g, odds, ml, y))\n",
    "                games_bet |= set([g])\n",
    "                balance.append(bankroll)\n",
    "                probs.append(odds)\n",
    "    return balance, probs, games_bet"
   ]
  },
  {
   "cell_type": "code",
   "execution_count": 9,
   "metadata": {
    "collapsed": false
   },
   "outputs": [],
   "source": [
    "\n",
    "home_X, home_y, game_ids = build_sequence_dataset(sequence_length=10)\n",
    "away_X, away_y, _        = build_sequence_dataset(sequence_length=10, home=False)\n",
    "home_X_train, home_X_test, y_train, y_test, games_train, games_test, away_X_train, away_X_test = train_test_split(home_X, home_y, game_ids, away_X, test_size=.33)"
   ]
  },
  {
   "cell_type": "code",
   "execution_count": 12,
   "metadata": {
    "collapsed": false,
    "scrolled": true
   },
   "outputs": [
    {
     "name": "stderr",
     "output_type": "stream",
     "text": [
      "/home/ben/anaconda3/envs/py35/lib/python3.5/site-packages/ipykernel/__main__.py:6: UserWarning: Update your `LSTM` call to the Keras 2 API: `LSTM(input_shape=(11, 23), activation=\"sigmoid\", recurrent_activation=\"hard_sigmoid\", units=128, return_sequences=True)`\n",
      "/home/ben/anaconda3/envs/py35/lib/python3.5/site-packages/ipykernel/__main__.py:8: UserWarning: Update your `LSTM` call to the Keras 2 API: `LSTM(activation=\"sigmoid\", recurrent_activation=\"hard_sigmoid\", units=128)`\n"
     ]
    },
    {
     "name": "stdout",
     "output_type": "stream",
     "text": [
      "(1216, 11, 23)\n"
     ]
    }
   ],
   "source": [
    "model = train_model(home_X_train, y_train)"
   ]
  },
  {
   "cell_type": "code",
   "execution_count": 30,
   "metadata": {
    "collapsed": true
   },
   "outputs": [],
   "source": [
    "pred = model.predict_proba(home_X_test)"
   ]
  },
  {
   "cell_type": "code",
   "execution_count": 31,
   "metadata": {
    "collapsed": false
   },
   "outputs": [
    {
     "name": "stdout",
     "output_type": "stream",
     "text": [
      "MSE: 0.23971488109917197\n",
      "Baseline MSE: 0.2632444959116443\n"
     ]
    }
   ],
   "source": [
    "base_x, base_y = build_flat_dataset()\n",
    "print(\"MSE: {}\".format(mse(y_test, pred)))\n",
    "print(\"Baseline MSE: {}\".format(mse(base_y, base_x.mean(axis=1))))"
   ]
  },
  {
   "cell_type": "code",
   "execution_count": 32,
   "metadata": {
    "collapsed": false
   },
   "outputs": [
    {
     "data": {
      "text/plain": [
       "<matplotlib.collections.PathCollection at 0x7f9ed068d390>"
      ]
     },
     "execution_count": 32,
     "metadata": {},
     "output_type": "execute_result"
    },
    {
     "data": {
      "image/png": "[encoded data removed]",
      "text/plain": [
       "<matplotlib.figure.Figure at 0x7f9ecfc672b0>"
      ]
     },
     "metadata": {},
     "output_type": "display_data"
    }
   ],
   "source": [
    "plt.scatter(pred, y_test)"
   ]
  },
  {
   "cell_type": "code",
   "execution_count": 23,
   "metadata": {
    "collapsed": false,
    "scrolled": true
   },
   "outputs": [
    {
     "name": "stdout",
     "output_type": "stream",
     "text": [
      "Betting on home team in game 7919 at odds 0.34965(186.00028600028597) - result: 1.0\n",
      "Betting on away team in game 131 at odds 0.39216(154.99796001631987) - result: 1.0\n",
      "Betting on home team in game 18460 at odds 0.44248(125.99891520520703) - result: 1.0\n",
      "Betting on away team in game 7273 at odds 0.47393(111.00162471251029) - result: 1.0\n",
      "Betting on home team in game 13816 at odds 0.41322(142.00183921397803) - result: 0.0\n",
      "Betting on away team in game 6687 at odds 0.47393(111.00162471251029) - result: 0.0\n",
      "Betting on home team in game 13580 at odds 0.42918(133.00246982618015) - result: 1.0\n",
      "Betting on home team in game 18314 at odds 0.23981(316.9967891247238) - result: 1.0\n",
      "Betting on away team in game 18468 at odds 0.39063(155.99672324194253) - result: 1.0\n",
      "Betting on away team in game 128 at odds 0.4065(146.00246002460025) - result: 1.0\n",
      "Betting on away team in game 7307 at odds 0.3663(173.00027300027298) - result: 0.0\n",
      "Betting on away team in game 18313 at odds 0.40323(147.9974208268234) - result: 1.0\n",
      "Betting on home team in game 6666 at odds 0.44444(125.0022500225002) - result: 1.0\n",
      "Betting on away team in game 7918 at odds 0.36765(171.99782401740785) - result: 0.0\n",
      "Betting on away team in game 18467 at odds 0.33223(200.99629774553773) - result: 0.0\n",
      "Betting on home team in game 24203 at odds 0.30769(225.00243751828134) - result: 1.0\n",
      "Betting on away team in game 7275 at odds 0.45872(117.9979072200907) - result: 1.0\n",
      "Betting on away team in game 16856 at odds 0.30769(225.00243751828134) - result: 0.0\n",
      "Betting on home team in game 13818 at odds 0.43478(130.00138000828002) - result: 0.0\n",
      "Betting on home team in game 129 at odds 0.36364(174.9972500274997) - result: 0.0\n",
      "Betting on away team in game 7310 at odds 0.43668(129.00064120179536) - result: 0.0\n",
      "Betting on away team in game 18465 at odds 0.37879(163.99852160827896) - result: 1.0\n",
      "Betting on away team in game 23537 at odds 0.43478(130.00138000828002) - result: 1.0\n",
      "Betting on away team in game 130 at odds 0.39216(154.99796001631987) - result: 0.0\n",
      "Betting on home team in game 6664 at odds 0.38314(161.0012006055228) - result: 1.0\n",
      "Betting on away team in game 6688 at odds 0.37736(164.99894000424) - result: 0.0\n",
      "Betting on home team in game 18466 at odds 0.42553(135.00105750475876) - result: 1.0\n",
      "Betting on away team in game 7309 at odds 0.4329(131.00023100023103) - result: 0.0\n",
      "Betting on home team in game 18458 at odds 0.34843(187.00169330999051) - result: 1.0\n",
      "Betting on home team in game 123 at odds 0.40816(145.0019600156801) - result: 0.0\n"
     ]
    }
   ],
   "source": [
    "balance, probs, games_bet = backtest(pred, home_X_test, away_X_test, y_test, games_test, tol=.03)"
   ]
  },
  {
   "cell_type": "code",
   "execution_count": 24,
   "metadata": {
    "collapsed": false
   },
   "outputs": [
    {
     "data": {
      "text/plain": [
       "599"
      ]
     },
     "execution_count": 24,
     "metadata": {},
     "output_type": "execute_result"
    }
   ],
   "source": [
    "len(pred)"
   ]
  },
  {
   "cell_type": "code",
   "execution_count": 25,
   "metadata": {
    "collapsed": false
   },
   "outputs": [
    {
     "data": {
      "text/plain": [
       "<matplotlib.axes._subplots.AxesSubplot at 0x7f9ed040f5f8>"
      ]
     },
     "execution_count": 25,
     "metadata": {},
     "output_type": "execute_result"
    },
    {
     "data": {
      "image/png": "[encoded data removed]",
      "text/plain": [
       "<matplotlib.figure.Figure at 0x7f9ed04f4c18>"
      ]
     },
     "metadata": {},
     "output_type": "display_data"
    }
   ],
   "source": [
    "sns.distplot(probs)"
   ]
  },
  {
   "cell_type": "code",
   "execution_count": 26,
   "metadata": {
    "collapsed": false
   },
   "outputs": [
    {
     "data": {
      "text/plain": [
       "<matplotlib.collections.PathCollection at 0x7f9ed0613dd8>"
      ]
     },
     "execution_count": 26,
     "metadata": {},
     "output_type": "execute_result"
    },
    {
     "data": {
      "image/png": "[encoded data removed]",
      "text/plain": [
       "<matplotlib.figure.Figure at 0x7f9ed05f64a8>"
      ]
     },
     "metadata": {},
     "output_type": "display_data"
    }
   ],
   "source": [
    "plt.scatter(range(len(balance)), balance)"
   ]
  },
  {
   "cell_type": "code",
   "execution_count": 109,
   "metadata": {
    "collapsed": false
   },
   "outputs": [],
   "source": [
    "df = get_data()"
   ]
  },
  {
   "cell_type": "code",
   "execution_count": 78,
   "metadata": {
    "collapsed": false,
    "scrolled": true
   },
   "outputs": [
    {
     "data": {
      "text/html": [
       "<div>\n",
       "<style>\n",
       "    .dataframe thead tr:only-child th {\n",
       "        text-align: right;\n",
       "    }\n",
       "\n",
       "    .dataframe thead th {\n",
       "        text-align: left;\n",
       "    }\n",
       "\n",
       "    .dataframe tbody tr th {\n",
       "        vertical-align: top;\n",
       "    }\n",
       "</style>\n",
       "<table border=\"1\" class=\"dataframe\">\n",
       "  <thead>\n",
       "    <tr style=\"text-align: right;\">\n",
       "      <th></th>\n",
       "      <th>away_prob</th>\n",
       "      <th>bookie</th>\n",
       "      <th>game_id</th>\n",
       "      <th>home_prob</th>\n",
       "      <th>line_datetime</th>\n",
       "      <th>outcome</th>\n",
       "      <th>time_to_game</th>\n",
       "    </tr>\n",
       "  </thead>\n",
       "  <tbody>\n",
       "    <tr>\n",
       "      <th>771</th>\n",
       "      <td>0.60784</td>\n",
       "      <td>5Dimes</td>\n",
       "      <td>123</td>\n",
       "      <td>0.42553</td>\n",
       "      <td>2018-04-01 15:50:32</td>\n",
       "      <td>0.0</td>\n",
       "      <td>189.466667</td>\n",
       "    </tr>\n",
       "    <tr>\n",
       "      <th>772</th>\n",
       "      <td>0.61538</td>\n",
       "      <td>5Dimes</td>\n",
       "      <td>123</td>\n",
       "      <td>0.41667</td>\n",
       "      <td>2018-04-01 16:41:29</td>\n",
       "      <td>0.0</td>\n",
       "      <td>138.516667</td>\n",
       "    </tr>\n",
       "    <tr>\n",
       "      <th>773</th>\n",
       "      <td>0.61538</td>\n",
       "      <td>Bet365</td>\n",
       "      <td>123</td>\n",
       "      <td>0.41667</td>\n",
       "      <td>2018-04-01 15:50:32</td>\n",
       "      <td>0.0</td>\n",
       "      <td>189.466667</td>\n",
       "    </tr>\n",
       "    <tr>\n",
       "      <th>774</th>\n",
       "      <td>0.60784</td>\n",
       "      <td>Bet365</td>\n",
       "      <td>123</td>\n",
       "      <td>0.42553</td>\n",
       "      <td>2018-04-01 17:02:51</td>\n",
       "      <td>0.0</td>\n",
       "      <td>117.150000</td>\n",
       "    </tr>\n",
       "    <tr>\n",
       "      <th>775</th>\n",
       "      <td>0.61538</td>\n",
       "      <td>Bet365</td>\n",
       "      <td>123</td>\n",
       "      <td>0.41667</td>\n",
       "      <td>2018-04-01 17:32:20</td>\n",
       "      <td>0.0</td>\n",
       "      <td>87.666667</td>\n",
       "    </tr>\n",
       "    <tr>\n",
       "      <th>776</th>\n",
       "      <td>0.60784</td>\n",
       "      <td>BetDSI</td>\n",
       "      <td>123</td>\n",
       "      <td>0.42553</td>\n",
       "      <td>2018-04-01 15:50:32</td>\n",
       "      <td>0.0</td>\n",
       "      <td>189.466667</td>\n",
       "    </tr>\n",
       "    <tr>\n",
       "      <th>777</th>\n",
       "      <td>0.61538</td>\n",
       "      <td>BetDSI</td>\n",
       "      <td>123</td>\n",
       "      <td>0.41667</td>\n",
       "      <td>2018-04-01 16:17:26</td>\n",
       "      <td>0.0</td>\n",
       "      <td>162.566667</td>\n",
       "    </tr>\n",
       "    <tr>\n",
       "      <th>778</th>\n",
       "      <td>0.61240</td>\n",
       "      <td>BetDSI</td>\n",
       "      <td>123</td>\n",
       "      <td>0.42017</td>\n",
       "      <td>2018-04-01 16:41:29</td>\n",
       "      <td>0.0</td>\n",
       "      <td>138.516667</td>\n",
       "    </tr>\n",
       "    <tr>\n",
       "      <th>779</th>\n",
       "      <td>0.61538</td>\n",
       "      <td>BetDSI</td>\n",
       "      <td>123</td>\n",
       "      <td>0.41667</td>\n",
       "      <td>2018-04-01 16:44:10</td>\n",
       "      <td>0.0</td>\n",
       "      <td>135.833333</td>\n",
       "    </tr>\n",
       "    <tr>\n",
       "      <th>780</th>\n",
       "      <td>0.62264</td>\n",
       "      <td>BetDSI</td>\n",
       "      <td>123</td>\n",
       "      <td>0.40816</td>\n",
       "      <td>2018-04-01 18:38:17</td>\n",
       "      <td>0.0</td>\n",
       "      <td>21.716667</td>\n",
       "    </tr>\n",
       "    <tr>\n",
       "      <th>781</th>\n",
       "      <td>0.61390</td>\n",
       "      <td>BetMania</td>\n",
       "      <td>123</td>\n",
       "      <td>0.41841</td>\n",
       "      <td>2018-04-01 15:50:32</td>\n",
       "      <td>0.0</td>\n",
       "      <td>189.466667</td>\n",
       "    </tr>\n",
       "    <tr>\n",
       "      <th>782</th>\n",
       "      <td>0.60474</td>\n",
       "      <td>BetMania</td>\n",
       "      <td>123</td>\n",
       "      <td>0.42918</td>\n",
       "      <td>2018-04-01 17:00:11</td>\n",
       "      <td>0.0</td>\n",
       "      <td>119.816667</td>\n",
       "    </tr>\n",
       "    <tr>\n",
       "      <th>783</th>\n",
       "      <td>0.60630</td>\n",
       "      <td>BetMania</td>\n",
       "      <td>123</td>\n",
       "      <td>0.42735</td>\n",
       "      <td>2018-04-01 17:02:51</td>\n",
       "      <td>0.0</td>\n",
       "      <td>117.150000</td>\n",
       "    </tr>\n",
       "    <tr>\n",
       "      <th>784</th>\n",
       "      <td>0.61832</td>\n",
       "      <td>BetMania</td>\n",
       "      <td>123</td>\n",
       "      <td>0.41322</td>\n",
       "      <td>2018-04-01 17:32:20</td>\n",
       "      <td>0.0</td>\n",
       "      <td>87.666667</td>\n",
       "    </tr>\n",
       "    <tr>\n",
       "      <th>785</th>\n",
       "      <td>0.60630</td>\n",
       "      <td>BetOnline</td>\n",
       "      <td>123</td>\n",
       "      <td>0.41841</td>\n",
       "      <td>2018-04-01 15:50:32</td>\n",
       "      <td>0.0</td>\n",
       "      <td>189.466667</td>\n",
       "    </tr>\n",
       "    <tr>\n",
       "      <th>786</th>\n",
       "      <td>0.60317</td>\n",
       "      <td>BetOnline</td>\n",
       "      <td>123</td>\n",
       "      <td>0.42194</td>\n",
       "      <td>2018-04-01 17:00:11</td>\n",
       "      <td>0.0</td>\n",
       "      <td>119.816667</td>\n",
       "    </tr>\n",
       "    <tr>\n",
       "      <th>787</th>\n",
       "      <td>0.61089</td>\n",
       "      <td>BetOnline</td>\n",
       "      <td>123</td>\n",
       "      <td>0.41322</td>\n",
       "      <td>2018-04-01 17:32:20</td>\n",
       "      <td>0.0</td>\n",
       "      <td>87.666667</td>\n",
       "    </tr>\n",
       "    <tr>\n",
       "      <th>788</th>\n",
       "      <td>0.61240</td>\n",
       "      <td>BetOnline</td>\n",
       "      <td>123</td>\n",
       "      <td>0.41152</td>\n",
       "      <td>2018-04-01 17:35:00</td>\n",
       "      <td>0.0</td>\n",
       "      <td>85.000000</td>\n",
       "    </tr>\n",
       "    <tr>\n",
       "      <th>789</th>\n",
       "      <td>0.60784</td>\n",
       "      <td>Bookmaker</td>\n",
       "      <td>123</td>\n",
       "      <td>0.42553</td>\n",
       "      <td>2018-04-01 15:50:32</td>\n",
       "      <td>0.0</td>\n",
       "      <td>189.466667</td>\n",
       "    </tr>\n",
       "    <tr>\n",
       "      <th>790</th>\n",
       "      <td>0.61390</td>\n",
       "      <td>Bookmaker</td>\n",
       "      <td>123</td>\n",
       "      <td>0.41841</td>\n",
       "      <td>2018-04-01 16:38:49</td>\n",
       "      <td>0.0</td>\n",
       "      <td>141.183333</td>\n",
       "    </tr>\n",
       "    <tr>\n",
       "      <th>791</th>\n",
       "      <td>0.61538</td>\n",
       "      <td>Bookmaker</td>\n",
       "      <td>123</td>\n",
       "      <td>0.41667</td>\n",
       "      <td>2018-04-01 16:41:29</td>\n",
       "      <td>0.0</td>\n",
       "      <td>138.516667</td>\n",
       "    </tr>\n",
       "    <tr>\n",
       "      <th>792</th>\n",
       "      <td>0.61089</td>\n",
       "      <td>Bookmaker</td>\n",
       "      <td>123</td>\n",
       "      <td>0.42194</td>\n",
       "      <td>2018-04-01 16:52:10</td>\n",
       "      <td>0.0</td>\n",
       "      <td>127.833333</td>\n",
       "    </tr>\n",
       "    <tr>\n",
       "      <th>793</th>\n",
       "      <td>0.61686</td>\n",
       "      <td>Bookmaker</td>\n",
       "      <td>123</td>\n",
       "      <td>0.41494</td>\n",
       "      <td>2018-04-01 17:43:04</td>\n",
       "      <td>0.0</td>\n",
       "      <td>76.933333</td>\n",
       "    </tr>\n",
       "    <tr>\n",
       "      <th>794</th>\n",
       "      <td>0.61977</td>\n",
       "      <td>Bookmaker</td>\n",
       "      <td>123</td>\n",
       "      <td>0.41152</td>\n",
       "      <td>2018-04-01 18:33:05</td>\n",
       "      <td>0.0</td>\n",
       "      <td>26.916667</td>\n",
       "    </tr>\n",
       "    <tr>\n",
       "      <th>795</th>\n",
       "      <td>0.61538</td>\n",
       "      <td>Bovada</td>\n",
       "      <td>123</td>\n",
       "      <td>0.41667</td>\n",
       "      <td>2018-04-01 15:50:32</td>\n",
       "      <td>0.0</td>\n",
       "      <td>189.466667</td>\n",
       "    </tr>\n",
       "    <tr>\n",
       "      <th>796</th>\n",
       "      <td>0.62264</td>\n",
       "      <td>Bovada</td>\n",
       "      <td>123</td>\n",
       "      <td>0.40816</td>\n",
       "      <td>2018-04-01 16:44:10</td>\n",
       "      <td>0.0</td>\n",
       "      <td>135.833333</td>\n",
       "    </tr>\n",
       "    <tr>\n",
       "      <th>797</th>\n",
       "      <td>0.61538</td>\n",
       "      <td>Caesars</td>\n",
       "      <td>123</td>\n",
       "      <td>0.41667</td>\n",
       "      <td>2018-04-01 15:50:32</td>\n",
       "      <td>0.0</td>\n",
       "      <td>189.466667</td>\n",
       "    </tr>\n",
       "    <tr>\n",
       "      <th>798</th>\n",
       "      <td>0.60784</td>\n",
       "      <td>Caesars</td>\n",
       "      <td>123</td>\n",
       "      <td>0.42553</td>\n",
       "      <td>2018-04-01 17:02:51</td>\n",
       "      <td>0.0</td>\n",
       "      <td>117.150000</td>\n",
       "    </tr>\n",
       "    <tr>\n",
       "      <th>799</th>\n",
       "      <td>0.60784</td>\n",
       "      <td>Consensus</td>\n",
       "      <td>123</td>\n",
       "      <td>0.42553</td>\n",
       "      <td>2018-04-01 15:50:32</td>\n",
       "      <td>0.0</td>\n",
       "      <td>189.466667</td>\n",
       "    </tr>\n",
       "    <tr>\n",
       "      <th>800</th>\n",
       "      <td>0.61538</td>\n",
       "      <td>Consensus</td>\n",
       "      <td>123</td>\n",
       "      <td>0.41667</td>\n",
       "      <td>2018-04-01 16:38:49</td>\n",
       "      <td>0.0</td>\n",
       "      <td>141.183333</td>\n",
       "    </tr>\n",
       "    <tr>\n",
       "      <th>...</th>\n",
       "      <td>...</td>\n",
       "      <td>...</td>\n",
       "      <td>...</td>\n",
       "      <td>...</td>\n",
       "      <td>...</td>\n",
       "      <td>...</td>\n",
       "      <td>...</td>\n",
       "    </tr>\n",
       "    <tr>\n",
       "      <th>16650</th>\n",
       "      <td>0.71429</td>\n",
       "      <td>SportsBetting</td>\n",
       "      <td>24203</td>\n",
       "      <td>0.32258</td>\n",
       "      <td>2018-04-04 21:00:31</td>\n",
       "      <td>1.0</td>\n",
       "      <td>89.483333</td>\n",
       "    </tr>\n",
       "    <tr>\n",
       "      <th>16651</th>\n",
       "      <td>0.71831</td>\n",
       "      <td>SportsBetting</td>\n",
       "      <td>24203</td>\n",
       "      <td>0.31746</td>\n",
       "      <td>2018-04-04 21:39:10</td>\n",
       "      <td>1.0</td>\n",
       "      <td>50.833333</td>\n",
       "    </tr>\n",
       "    <tr>\n",
       "      <th>16652</th>\n",
       "      <td>0.72222</td>\n",
       "      <td>SportsBetting</td>\n",
       "      <td>24203</td>\n",
       "      <td>0.31250</td>\n",
       "      <td>2018-04-04 22:02:24</td>\n",
       "      <td>1.0</td>\n",
       "      <td>27.600000</td>\n",
       "    </tr>\n",
       "    <tr>\n",
       "      <th>16653</th>\n",
       "      <td>0.72603</td>\n",
       "      <td>SportsBetting</td>\n",
       "      <td>24203</td>\n",
       "      <td>0.30769</td>\n",
       "      <td>2018-04-04 22:07:31</td>\n",
       "      <td>1.0</td>\n",
       "      <td>22.483333</td>\n",
       "    </tr>\n",
       "    <tr>\n",
       "      <th>16654</th>\n",
       "      <td>0.71014</td>\n",
       "      <td>SportsBetting</td>\n",
       "      <td>24203</td>\n",
       "      <td>0.32787</td>\n",
       "      <td>2018-04-04 22:12:38</td>\n",
       "      <td>1.0</td>\n",
       "      <td>17.366667</td>\n",
       "    </tr>\n",
       "    <tr>\n",
       "      <th>16655</th>\n",
       "      <td>0.71429</td>\n",
       "      <td>SportsBetting</td>\n",
       "      <td>24203</td>\n",
       "      <td>0.32258</td>\n",
       "      <td>2018-04-04 22:15:12</td>\n",
       "      <td>1.0</td>\n",
       "      <td>14.800000</td>\n",
       "    </tr>\n",
       "    <tr>\n",
       "      <th>16656</th>\n",
       "      <td>0.72222</td>\n",
       "      <td>SportsBetting</td>\n",
       "      <td>24203</td>\n",
       "      <td>0.31250</td>\n",
       "      <td>2018-04-04 22:17:44</td>\n",
       "      <td>1.0</td>\n",
       "      <td>12.266667</td>\n",
       "    </tr>\n",
       "    <tr>\n",
       "      <th>16657</th>\n",
       "      <td>0.73333</td>\n",
       "      <td>SportsBetting</td>\n",
       "      <td>24203</td>\n",
       "      <td>0.30303</td>\n",
       "      <td>2018-04-04 22:22:48</td>\n",
       "      <td>1.0</td>\n",
       "      <td>7.200000</td>\n",
       "    </tr>\n",
       "    <tr>\n",
       "      <th>16658</th>\n",
       "      <td>0.72222</td>\n",
       "      <td>Sportsbk</td>\n",
       "      <td>24203</td>\n",
       "      <td>0.31250</td>\n",
       "      <td>2018-04-04 10:01:42</td>\n",
       "      <td>1.0</td>\n",
       "      <td>748.300000</td>\n",
       "    </tr>\n",
       "    <tr>\n",
       "      <th>16659</th>\n",
       "      <td>0.72973</td>\n",
       "      <td>Sportsbk</td>\n",
       "      <td>24203</td>\n",
       "      <td>0.30769</td>\n",
       "      <td>2018-04-04 11:24:21</td>\n",
       "      <td>1.0</td>\n",
       "      <td>665.650000</td>\n",
       "    </tr>\n",
       "    <tr>\n",
       "      <th>16660</th>\n",
       "      <td>0.73684</td>\n",
       "      <td>Sportsbk</td>\n",
       "      <td>24203</td>\n",
       "      <td>0.30303</td>\n",
       "      <td>2018-04-04 11:49:17</td>\n",
       "      <td>1.0</td>\n",
       "      <td>640.716667</td>\n",
       "    </tr>\n",
       "    <tr>\n",
       "      <th>16661</th>\n",
       "      <td>0.74359</td>\n",
       "      <td>Sportsbk</td>\n",
       "      <td>24203</td>\n",
       "      <td>0.29412</td>\n",
       "      <td>2018-04-04 13:02:56</td>\n",
       "      <td>1.0</td>\n",
       "      <td>567.066667</td>\n",
       "    </tr>\n",
       "    <tr>\n",
       "      <th>16662</th>\n",
       "      <td>0.73684</td>\n",
       "      <td>Sportsbk</td>\n",
       "      <td>24203</td>\n",
       "      <td>0.30303</td>\n",
       "      <td>2018-04-04 16:34:22</td>\n",
       "      <td>1.0</td>\n",
       "      <td>355.633333</td>\n",
       "    </tr>\n",
       "    <tr>\n",
       "      <th>16663</th>\n",
       "      <td>0.72222</td>\n",
       "      <td>Sportsbk</td>\n",
       "      <td>24203</td>\n",
       "      <td>0.31250</td>\n",
       "      <td>2018-04-04 20:45:01</td>\n",
       "      <td>1.0</td>\n",
       "      <td>104.983333</td>\n",
       "    </tr>\n",
       "    <tr>\n",
       "      <th>16664</th>\n",
       "      <td>0.71429</td>\n",
       "      <td>Sportsbk</td>\n",
       "      <td>24203</td>\n",
       "      <td>0.32258</td>\n",
       "      <td>2018-04-04 20:47:36</td>\n",
       "      <td>1.0</td>\n",
       "      <td>102.400000</td>\n",
       "    </tr>\n",
       "    <tr>\n",
       "      <th>16665</th>\n",
       "      <td>0.72222</td>\n",
       "      <td>Sportsbk</td>\n",
       "      <td>24203</td>\n",
       "      <td>0.31250</td>\n",
       "      <td>2018-04-04 21:28:50</td>\n",
       "      <td>1.0</td>\n",
       "      <td>61.166667</td>\n",
       "    </tr>\n",
       "    <tr>\n",
       "      <th>16666</th>\n",
       "      <td>0.72973</td>\n",
       "      <td>Sportsbk</td>\n",
       "      <td>24203</td>\n",
       "      <td>0.30769</td>\n",
       "      <td>2018-04-04 22:25:21</td>\n",
       "      <td>1.0</td>\n",
       "      <td>4.650000</td>\n",
       "    </tr>\n",
       "    <tr>\n",
       "      <th>16667</th>\n",
       "      <td>0.73333</td>\n",
       "      <td>Westgate</td>\n",
       "      <td>24203</td>\n",
       "      <td>0.30769</td>\n",
       "      <td>2018-04-04 10:23:38</td>\n",
       "      <td>1.0</td>\n",
       "      <td>726.366667</td>\n",
       "    </tr>\n",
       "    <tr>\n",
       "      <th>16668</th>\n",
       "      <td>0.72973</td>\n",
       "      <td>Westgate</td>\n",
       "      <td>24203</td>\n",
       "      <td>0.31250</td>\n",
       "      <td>2018-04-04 10:31:51</td>\n",
       "      <td>1.0</td>\n",
       "      <td>718.150000</td>\n",
       "    </tr>\n",
       "    <tr>\n",
       "      <th>16669</th>\n",
       "      <td>0.73684</td>\n",
       "      <td>Westgate</td>\n",
       "      <td>24203</td>\n",
       "      <td>0.30303</td>\n",
       "      <td>2018-04-04 11:24:21</td>\n",
       "      <td>1.0</td>\n",
       "      <td>665.650000</td>\n",
       "    </tr>\n",
       "    <tr>\n",
       "      <th>16670</th>\n",
       "      <td>0.75000</td>\n",
       "      <td>Westgate</td>\n",
       "      <td>24203</td>\n",
       "      <td>0.29412</td>\n",
       "      <td>2018-04-04 11:40:59</td>\n",
       "      <td>1.0</td>\n",
       "      <td>649.016667</td>\n",
       "    </tr>\n",
       "    <tr>\n",
       "      <th>16671</th>\n",
       "      <td>0.73333</td>\n",
       "      <td>Westgate</td>\n",
       "      <td>24203</td>\n",
       "      <td>0.30769</td>\n",
       "      <td>2018-04-04 16:37:04</td>\n",
       "      <td>1.0</td>\n",
       "      <td>352.933333</td>\n",
       "    </tr>\n",
       "    <tr>\n",
       "      <th>16672</th>\n",
       "      <td>0.71429</td>\n",
       "      <td>Westgate</td>\n",
       "      <td>24203</td>\n",
       "      <td>0.33333</td>\n",
       "      <td>2018-04-04 20:45:01</td>\n",
       "      <td>1.0</td>\n",
       "      <td>104.983333</td>\n",
       "    </tr>\n",
       "    <tr>\n",
       "      <th>16673</th>\n",
       "      <td>0.72222</td>\n",
       "      <td>Westgate</td>\n",
       "      <td>24203</td>\n",
       "      <td>0.32258</td>\n",
       "      <td>2018-04-04 21:23:41</td>\n",
       "      <td>1.0</td>\n",
       "      <td>66.316667</td>\n",
       "    </tr>\n",
       "    <tr>\n",
       "      <th>16674</th>\n",
       "      <td>0.73684</td>\n",
       "      <td>Westgate</td>\n",
       "      <td>24203</td>\n",
       "      <td>0.30303</td>\n",
       "      <td>2018-04-04 22:22:48</td>\n",
       "      <td>1.0</td>\n",
       "      <td>7.200000</td>\n",
       "    </tr>\n",
       "    <tr>\n",
       "      <th>16675</th>\n",
       "      <td>0.72222</td>\n",
       "      <td>YouWager</td>\n",
       "      <td>24203</td>\n",
       "      <td>0.31250</td>\n",
       "      <td>2018-04-04 10:07:11</td>\n",
       "      <td>1.0</td>\n",
       "      <td>742.816667</td>\n",
       "    </tr>\n",
       "    <tr>\n",
       "      <th>16676</th>\n",
       "      <td>0.72973</td>\n",
       "      <td>YouWager</td>\n",
       "      <td>24203</td>\n",
       "      <td>0.30303</td>\n",
       "      <td>2018-04-04 11:27:08</td>\n",
       "      <td>1.0</td>\n",
       "      <td>662.866667</td>\n",
       "    </tr>\n",
       "    <tr>\n",
       "      <th>16677</th>\n",
       "      <td>0.71429</td>\n",
       "      <td>YouWager</td>\n",
       "      <td>24203</td>\n",
       "      <td>0.32258</td>\n",
       "      <td>2018-04-04 20:47:36</td>\n",
       "      <td>1.0</td>\n",
       "      <td>102.400000</td>\n",
       "    </tr>\n",
       "    <tr>\n",
       "      <th>16678</th>\n",
       "      <td>0.71831</td>\n",
       "      <td>YouWager</td>\n",
       "      <td>24203</td>\n",
       "      <td>0.31746</td>\n",
       "      <td>2018-04-04 22:22:48</td>\n",
       "      <td>1.0</td>\n",
       "      <td>7.200000</td>\n",
       "    </tr>\n",
       "    <tr>\n",
       "      <th>16679</th>\n",
       "      <td>0.72603</td>\n",
       "      <td>YouWager</td>\n",
       "      <td>24203</td>\n",
       "      <td>0.30769</td>\n",
       "      <td>2018-04-04 22:27:53</td>\n",
       "      <td>1.0</td>\n",
       "      <td>2.116667</td>\n",
       "    </tr>\n",
       "  </tbody>\n",
       "</table>\n",
       "<p>4155 rows × 7 columns</p>\n",
       "</div>"
      ],
      "text/plain": [
       "       away_prob         bookie  game_id  home_prob        line_datetime  \\\n",
       "771      0.60784         5Dimes      123    0.42553  2018-04-01 15:50:32   \n",
       "772      0.61538         5Dimes      123    0.41667  2018-04-01 16:41:29   \n",
       "773      0.61538         Bet365      123    0.41667  2018-04-01 15:50:32   \n",
       "774      0.60784         Bet365      123    0.42553  2018-04-01 17:02:51   \n",
       "775      0.61538         Bet365      123    0.41667  2018-04-01 17:32:20   \n",
       "776      0.60784         BetDSI      123    0.42553  2018-04-01 15:50:32   \n",
       "777      0.61538         BetDSI      123    0.41667  2018-04-01 16:17:26   \n",
       "778      0.61240         BetDSI      123    0.42017  2018-04-01 16:41:29   \n",
       "779      0.61538         BetDSI      123    0.41667  2018-04-01 16:44:10   \n",
       "780      0.62264         BetDSI      123    0.40816  2018-04-01 18:38:17   \n",
       "781      0.61390       BetMania      123    0.41841  2018-04-01 15:50:32   \n",
       "782      0.60474       BetMania      123    0.42918  2018-04-01 17:00:11   \n",
       "783      0.60630       BetMania      123    0.42735  2018-04-01 17:02:51   \n",
       "784      0.61832       BetMania      123    0.41322  2018-04-01 17:32:20   \n",
       "785      0.60630      BetOnline      123    0.41841  2018-04-01 15:50:32   \n",
       "786      0.60317      BetOnline      123    0.42194  2018-04-01 17:00:11   \n",
       "787      0.61089      BetOnline      123    0.41322  2018-04-01 17:32:20   \n",
       "788      0.61240      BetOnline      123    0.41152  2018-04-01 17:35:00   \n",
       "789      0.60784      Bookmaker      123    0.42553  2018-04-01 15:50:32   \n",
       "790      0.61390      Bookmaker      123    0.41841  2018-04-01 16:38:49   \n",
       "791      0.61538      Bookmaker      123    0.41667  2018-04-01 16:41:29   \n",
       "792      0.61089      Bookmaker      123    0.42194  2018-04-01 16:52:10   \n",
       "793      0.61686      Bookmaker      123    0.41494  2018-04-01 17:43:04   \n",
       "794      0.61977      Bookmaker      123    0.41152  2018-04-01 18:33:05   \n",
       "795      0.61538         Bovada      123    0.41667  2018-04-01 15:50:32   \n",
       "796      0.62264         Bovada      123    0.40816  2018-04-01 16:44:10   \n",
       "797      0.61538        Caesars      123    0.41667  2018-04-01 15:50:32   \n",
       "798      0.60784        Caesars      123    0.42553  2018-04-01 17:02:51   \n",
       "799      0.60784      Consensus      123    0.42553  2018-04-01 15:50:32   \n",
       "800      0.61538      Consensus      123    0.41667  2018-04-01 16:38:49   \n",
       "...          ...            ...      ...        ...                  ...   \n",
       "16650    0.71429  SportsBetting    24203    0.32258  2018-04-04 21:00:31   \n",
       "16651    0.71831  SportsBetting    24203    0.31746  2018-04-04 21:39:10   \n",
       "16652    0.72222  SportsBetting    24203    0.31250  2018-04-04 22:02:24   \n",
       "16653    0.72603  SportsBetting    24203    0.30769  2018-04-04 22:07:31   \n",
       "16654    0.71014  SportsBetting    24203    0.32787  2018-04-04 22:12:38   \n",
       "16655    0.71429  SportsBetting    24203    0.32258  2018-04-04 22:15:12   \n",
       "16656    0.72222  SportsBetting    24203    0.31250  2018-04-04 22:17:44   \n",
       "16657    0.73333  SportsBetting    24203    0.30303  2018-04-04 22:22:48   \n",
       "16658    0.72222       Sportsbk    24203    0.31250  2018-04-04 10:01:42   \n",
       "16659    0.72973       Sportsbk    24203    0.30769  2018-04-04 11:24:21   \n",
       "16660    0.73684       Sportsbk    24203    0.30303  2018-04-04 11:49:17   \n",
       "16661    0.74359       Sportsbk    24203    0.29412  2018-04-04 13:02:56   \n",
       "16662    0.73684       Sportsbk    24203    0.30303  2018-04-04 16:34:22   \n",
       "16663    0.72222       Sportsbk    24203    0.31250  2018-04-04 20:45:01   \n",
       "16664    0.71429       Sportsbk    24203    0.32258  2018-04-04 20:47:36   \n",
       "16665    0.72222       Sportsbk    24203    0.31250  2018-04-04 21:28:50   \n",
       "16666    0.72973       Sportsbk    24203    0.30769  2018-04-04 22:25:21   \n",
       "16667    0.73333       Westgate    24203    0.30769  2018-04-04 10:23:38   \n",
       "16668    0.72973       Westgate    24203    0.31250  2018-04-04 10:31:51   \n",
       "16669    0.73684       Westgate    24203    0.30303  2018-04-04 11:24:21   \n",
       "16670    0.75000       Westgate    24203    0.29412  2018-04-04 11:40:59   \n",
       "16671    0.73333       Westgate    24203    0.30769  2018-04-04 16:37:04   \n",
       "16672    0.71429       Westgate    24203    0.33333  2018-04-04 20:45:01   \n",
       "16673    0.72222       Westgate    24203    0.32258  2018-04-04 21:23:41   \n",
       "16674    0.73684       Westgate    24203    0.30303  2018-04-04 22:22:48   \n",
       "16675    0.72222       YouWager    24203    0.31250  2018-04-04 10:07:11   \n",
       "16676    0.72973       YouWager    24203    0.30303  2018-04-04 11:27:08   \n",
       "16677    0.71429       YouWager    24203    0.32258  2018-04-04 20:47:36   \n",
       "16678    0.71831       YouWager    24203    0.31746  2018-04-04 22:22:48   \n",
       "16679    0.72603       YouWager    24203    0.30769  2018-04-04 22:27:53   \n",
       "\n",
       "       outcome  time_to_game  \n",
       "771        0.0    189.466667  \n",
       "772        0.0    138.516667  \n",
       "773        0.0    189.466667  \n",
       "774        0.0    117.150000  \n",
       "775        0.0     87.666667  \n",
       "776        0.0    189.466667  \n",
       "777        0.0    162.566667  \n",
       "778        0.0    138.516667  \n",
       "779        0.0    135.833333  \n",
       "780        0.0     21.716667  \n",
       "781        0.0    189.466667  \n",
       "782        0.0    119.816667  \n",
       "783        0.0    117.150000  \n",
       "784        0.0     87.666667  \n",
       "785        0.0    189.466667  \n",
       "786        0.0    119.816667  \n",
       "787        0.0     87.666667  \n",
       "788        0.0     85.000000  \n",
       "789        0.0    189.466667  \n",
       "790        0.0    141.183333  \n",
       "791        0.0    138.516667  \n",
       "792        0.0    127.833333  \n",
       "793        0.0     76.933333  \n",
       "794        0.0     26.916667  \n",
       "795        0.0    189.466667  \n",
       "796        0.0    135.833333  \n",
       "797        0.0    189.466667  \n",
       "798        0.0    117.150000  \n",
       "799        0.0    189.466667  \n",
       "800        0.0    141.183333  \n",
       "...        ...           ...  \n",
       "16650      1.0     89.483333  \n",
       "16651      1.0     50.833333  \n",
       "16652      1.0     27.600000  \n",
       "16653      1.0     22.483333  \n",
       "16654      1.0     17.366667  \n",
       "16655      1.0     14.800000  \n",
       "16656      1.0     12.266667  \n",
       "16657      1.0      7.200000  \n",
       "16658      1.0    748.300000  \n",
       "16659      1.0    665.650000  \n",
       "16660      1.0    640.716667  \n",
       "16661      1.0    567.066667  \n",
       "16662      1.0    355.633333  \n",
       "16663      1.0    104.983333  \n",
       "16664      1.0    102.400000  \n",
       "16665      1.0     61.166667  \n",
       "16666      1.0      4.650000  \n",
       "16667      1.0    726.366667  \n",
       "16668      1.0    718.150000  \n",
       "16669      1.0    665.650000  \n",
       "16670      1.0    649.016667  \n",
       "16671      1.0    352.933333  \n",
       "16672      1.0    104.983333  \n",
       "16673      1.0     66.316667  \n",
       "16674      1.0      7.200000  \n",
       "16675      1.0    742.816667  \n",
       "16676      1.0    662.866667  \n",
       "16677      1.0    102.400000  \n",
       "16678      1.0      7.200000  \n",
       "16679      1.0      2.116667  \n",
       "\n",
       "[4155 rows x 7 columns]"
      ]
     },
     "execution_count": 78,
     "metadata": {},
     "output_type": "execute_result"
    }
   ],
   "source": [
    "df.loc[df.game_id.isin(games_bet)]"
   ]
  },
  {
   "cell_type": "code",
   "execution_count": null,
   "metadata": {
    "collapsed": true
   },
   "outputs": [],
   "source": []
  },
  {
   "cell_type": "code",
   "execution_count": null,
   "metadata": {
    "collapsed": true
   },
   "outputs": [],
   "source": []
  },
  {
   "cell_type": "code",
   "execution_count": 80,
   "metadata": {
    "collapsed": false,
    "scrolled": true
   },
   "outputs": [
    {
     "data": {
      "text/plain": [
       "array([[ 0.44643,  0.46512,  0.45249,  0.44843,  0.45249,  0.45249,\n",
       "         0.46729,  0.46512,  0.45045,  0.44643,  0.45662,  0.45249,\n",
       "         0.44643,  0.45872,  0.45045,  0.46512,  0.45455,  0.44843,\n",
       "         0.44643,  0.45249,  0.44843,  0.45455,  0.45045],\n",
       "       [ 0.44843,  0.45455,  0.45662,  0.45455,  0.45455,  0.46083,\n",
       "         0.46512,  0.44444,  0.45455,  0.44843,  0.46083,  0.45045,\n",
       "         0.44444,  0.44843,  0.45249,  0.46512,  0.46083,  0.45455,\n",
       "         0.44843,  0.45455,  0.44843,  0.45045,  0.45662],\n",
       "       [ 0.45455,  0.46512,  0.46083,  0.45455,  0.45455,  0.46083,\n",
       "         0.46512,  0.44444,  0.45455,  0.44843,  0.46083,  0.45045,\n",
       "         0.44444,  0.44843,  0.45249,  0.46512,  0.46083,  0.45455,\n",
       "         0.45455,  0.45455,  0.44843,  0.45045,  0.45455],\n",
       "       [ 0.45455,  0.46512,  0.46083,  0.45045,  0.45455,  0.46083,\n",
       "         0.46512,  0.44444,  0.45455,  0.45455,  0.46083,  0.45045,\n",
       "         0.44444,  0.44248,  0.45249,  0.46512,  0.45662,  0.45045,\n",
       "         0.45455,  0.45455,  0.44843,  0.45045,  0.45455],\n",
       "       [ 0.45455,  0.46512,  0.46083,  0.45455,  0.45455,  0.46083,\n",
       "         0.46512,  0.44444,  0.45455,  0.45455,  0.46083,  0.45045,\n",
       "         0.44444,  0.44248,  0.45249,  0.46512,  0.46083,  0.45455,\n",
       "         0.45455,  0.45455,  0.44843,  0.45045,  0.45455],\n",
       "       [ 0.45455,  0.46512,  0.46083,  0.45455,  0.45455,  0.46083,\n",
       "         0.46512,  0.44444,  0.45455,  0.45455,  0.46083,  0.45045,\n",
       "         0.44444,  0.44843,  0.45249,  0.46512,  0.46083,  0.45455,\n",
       "         0.45455,  0.45455,  0.44843,  0.45045,  0.45455],\n",
       "       [ 0.45455,  0.46512,  0.46083,  0.45455,  0.45455,  0.46083,\n",
       "         0.46512,  0.44444,  0.45455,  0.45455,  0.46083,  0.45045,\n",
       "         0.44444,  0.46083,  0.45249,  0.46512,  0.46083,  0.45455,\n",
       "         0.45455,  0.45455,  0.44843,  0.45045,  0.45455],\n",
       "       [ 0.45455,  0.46512,  0.46083,  0.45455,  0.45455,  0.46083,\n",
       "         0.46512,  0.44444,  0.45455,  0.45455,  0.46083,  0.45045,\n",
       "         0.44444,  0.46083,  0.45455,  0.46512,  0.46083,  0.45455,\n",
       "         0.45455,  0.45455,  0.44843,  0.45045,  0.45455],\n",
       "       [ 0.45455,  0.46512,  0.46729,  0.45455,  0.45455,  0.46083,\n",
       "         0.46512,  0.44444,  0.45455,  0.45455,  0.46083,  0.45045,\n",
       "         0.44444,  0.46083,  0.45455,  0.46512,  0.46083,  0.45455,\n",
       "         0.45455,  0.45455,  0.44843,  0.45045,  0.45455],\n",
       "       [ 0.45455,  0.46512,  0.46729,  0.45455,  0.45455,  0.46083,\n",
       "         0.46083,  0.44444,  0.45455,  0.45455,  0.46083,  0.45045,\n",
       "         0.44444,  0.46083,  0.45455,  0.46512,  0.46083,  0.45455,\n",
       "         0.45455,  0.45455,  0.44843,  0.45045,  0.45455],\n",
       "       [ 0.45455,  0.46512,  0.46083,  0.45455,  0.45249,  0.46083,\n",
       "         0.46083,  0.44444,  0.45455,  0.45455,  0.46083,  0.45045,\n",
       "         0.44444,  0.46083,  0.45455,  0.46512,  0.46083,  0.45455,\n",
       "         0.45455,  0.45249,  0.44843,  0.45045,  0.45455]])"
      ]
     },
     "execution_count": 80,
     "metadata": {},
     "output_type": "execute_result"
    }
   ],
   "source": [
    "offset = pred.argmin()\n",
    "X[N+offset]"
   ]
  },
  {
   "cell_type": "code",
   "execution_count": 81,
   "metadata": {
    "collapsed": false
   },
   "outputs": [
    {
     "name": "stdout",
     "output_type": "stream",
     "text": [
      "Pred: [ 0.45868504], true: 1.0\n"
     ]
    }
   ],
   "source": [
    "print(\"Pred: {}, true: {}\".format(pred[offset], true[offset]))"
   ]
  },
  {
   "cell_type": "code",
   "execution_count": 82,
   "metadata": {
    "collapsed": false
   },
   "outputs": [
    {
     "data": {
      "text/plain": [
       "(605, 11, 23)"
      ]
     },
     "execution_count": 82,
     "metadata": {},
     "output_type": "execute_result"
    }
   ],
   "source": [
    "X[N:].shape"
   ]
  },
  {
   "cell_type": "code",
   "execution_count": 79,
   "metadata": {
    "collapsed": false
   },
   "outputs": [
    {
     "data": {
      "text/plain": [
       "(11,)"
      ]
     },
     "execution_count": 79,
     "metadata": {},
     "output_type": "execute_result"
    }
   ],
   "source": [
    "X[N].mean(axis=-1).shape"
   ]
  },
  {
   "cell_type": "code",
   "execution_count": 93,
   "metadata": {
    "collapsed": false
   },
   "outputs": [],
   "source": [
    "flat_x, flat_y = build_flat_dataset()"
   ]
  },
  {
   "cell_type": "code",
   "execution_count": 96,
   "metadata": {
    "collapsed": false
   },
   "outputs": [],
   "source": [
    "pivot = pd.pivot_table(df, 'home_prob', 'line_datetime', 'bookie')"
   ]
  },
  {
   "cell_type": "code",
   "execution_count": 99,
   "metadata": {
    "collapsed": false
   },
   "outputs": [],
   "source": [
    "bookies = list(pivot.columns)"
   ]
  },
  {
   "cell_type": "code",
   "execution_count": 100,
   "metadata": {
    "collapsed": false
   },
   "outputs": [
    {
     "data": {
      "text/plain": [
       "['5Dimes',\n",
       " 'Bet365',\n",
       " 'BetDSI',\n",
       " 'BetMania',\n",
       " 'BetOnline',\n",
       " 'Bookmaker',\n",
       " 'Bovada',\n",
       " 'Caesars',\n",
       " 'Consensus',\n",
       " 'GTBets',\n",
       " 'Greek',\n",
       " 'Heritage',\n",
       " 'Intertops',\n",
       " 'JustBet',\n",
       " 'LooseLines',\n",
       " 'MGM',\n",
       " 'Nitrogen',\n",
       " 'Pinnacle',\n",
       " 'Sportbet',\n",
       " 'SportsBetting',\n",
       " 'Sportsbk',\n",
       " 'Westgate',\n",
       " 'YouWager']"
      ]
     },
     "execution_count": 100,
     "metadata": {},
     "output_type": "execute_result"
    }
   ],
   "source": [
    "bookies"
   ]
  },
  {
   "cell_type": "code",
   "execution_count": null,
   "metadata": {
    "collapsed": true
   },
   "outputs": [],
   "source": []
  }
 ],
 "metadata": {
  "kernelspec": {
   "display_name": "Python 3",
   "language": "python",
   "name": "python3"
  },
  "language_info": {
   "codemirror_mode": {
    "name": "ipython",
    "version": 3
   },
   "file_extension": ".py",
   "mimetype": "text/x-python",
   "name": "python",
   "nbconvert_exporter": "python",
   "pygments_lexer": "ipython3",
   "version": "3.5.1"
  }
 },
 "nbformat": 4,
 "nbformat_minor": 2
}
