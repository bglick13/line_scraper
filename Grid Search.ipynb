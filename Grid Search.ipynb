{
 "cells": [
  {
   "cell_type": "code",
   "execution_count": 1,
   "metadata": {},
   "outputs": [
    {
     "name": "stderr",
     "output_type": "stream",
     "text": [
      "Using TensorFlow backend.\n"
     ]
    }
   ],
   "source": [
    "import sys\n",
    "import os\n",
    "sys.path.append(\"../PycharmProjects/line_scraper\")\n",
    "os.environ['KERAS_BACKEND'] = 'tensorflow'\n",
    "import matplotlib.pyplot as plt\n",
    "%matplotlib inline\n",
    "from dash_app.run_model import run_gridsearch\n",
    "import numpy as np\n",
    "import pandas as pd\n",
    "import seaborn as sns\n",
    "from sklearn.model_selection import StratifiedKFold\n",
    "from sklearn.metrics import classification_report\n",
    "from dash_app.data_util import get_data, build_flat_dataset, build_sequence_dataset\n",
    "from rl.vae import VAE\n",
    "from rl.mdn_rnn import MixtureDensity, mdn_loss, generate\n",
    "from keras.models import Sequential\n",
    "from keras.layers import Dense, Dropout, Activation, LSTM\n",
    "from keras.optimizers import RMSprop, Adam\n",
    "from dash_app.run_model import Backtest, generic_score"
   ]
  },
  {
   "cell_type": "code",
   "execution_count": 2,
   "metadata": {},
   "outputs": [],
   "source": [
    "x, y, games = build_sequence_dataset(sequence_length=10)\n",
    "away_x, away_y, _ = build_sequence_dataset(sequence_length=10, home=False)"
   ]
  },
  {
   "cell_type": "code",
   "execution_count": 3,
   "metadata": {},
   "outputs": [],
   "source": [
    "x_train, y_train = x[:5000], y[:5000]\n",
    "x_test,  y_test, games_test  = x[5000:], y[5000:], games[5000:]\n",
    "away_x_test, away_y_test = away_x[5000:], away_y[5000:]"
   ]
  },
  {
   "cell_type": "code",
   "execution_count": 4,
   "metadata": {},
   "outputs": [],
   "source": [
    "def baseline_test():\n",
    "    optimizer = Adam(lr=.001)\n",
    "    model = Sequential()\n",
    "    model.add(LSTM(units=32, activation='sigmoid', recurrent_activation='hard_sigmoid',\n",
    "                   input_shape=(11, 22), return_sequences=True))\n",
    "    model.add(LSTM(units=32, activation='sigmoid', recurrent_activation='hard_sigmoid'))\n",
    "    model.add(Dense(1))\n",
    "    model.add(Activation('sigmoid'))\n",
    "    model.compile(loss='binary_crossentropy', optimizer=optimizer)\n",
    "    model.fit(x_train, y_train, epochs=25)\n",
    "    pred = model.predict(x_test)\n",
    "    return generic_score(model, pred, x_test, away_x_test, y_test, games_test)"
   ]
  },
  {
   "cell_type": "code",
   "execution_count": 5,
   "metadata": {
    "scrolled": true
   },
   "outputs": [
    {
     "name": "stdout",
     "output_type": "stream",
     "text": [
      "Epoch 1/25\n",
      "5000/5000 [==============================] - 4s 772us/step - loss: 0.6946\n",
      "Epoch 2/25\n",
      "5000/5000 [==============================] - 3s 622us/step - loss: 0.6935\n",
      "Epoch 3/25\n",
      "5000/5000 [==============================] - 3s 620us/step - loss: 0.6934\n",
      "Epoch 4/25\n",
      "5000/5000 [==============================] - 3s 619us/step - loss: 0.6941\n",
      "Epoch 5/25\n",
      "5000/5000 [==============================] - 3s 618us/step - loss: 0.6937\n",
      "Epoch 6/25\n",
      "5000/5000 [==============================] - 3s 618us/step - loss: 0.6937\n",
      "Epoch 7/25\n",
      "5000/5000 [==============================] - 3s 625us/step - loss: 0.6933\n",
      "Epoch 8/25\n",
      "5000/5000 [==============================] - 3s 619us/step - loss: 0.6934\n",
      "Epoch 9/25\n",
      "5000/5000 [==============================] - 3s 628us/step - loss: 0.6934\n",
      "Epoch 10/25\n",
      "5000/5000 [==============================] - 3s 623us/step - loss: 0.6940\n",
      "Epoch 11/25\n",
      "5000/5000 [==============================] - 3s 630us/step - loss: 0.6938\n",
      "Epoch 12/25\n",
      "5000/5000 [==============================] - 3s 634us/step - loss: 0.6937\n",
      "Epoch 13/25\n",
      "5000/5000 [==============================] - 3s 628us/step - loss: 0.6933\n",
      "Epoch 14/25\n",
      "5000/5000 [==============================] - 3s 630us/step - loss: 0.6936\n",
      "Epoch 15/25\n",
      "5000/5000 [==============================] - 3s 628us/step - loss: 0.6934\n",
      "Epoch 16/25\n",
      "5000/5000 [==============================] - 3s 628us/step - loss: 0.6936\n",
      "Epoch 17/25\n",
      "5000/5000 [==============================] - 3s 633us/step - loss: 0.6931\n",
      "Epoch 18/25\n",
      "5000/5000 [==============================] - 3s 632us/step - loss: 0.6933\n",
      "Epoch 19/25\n",
      "5000/5000 [==============================] - 3s 625us/step - loss: 0.6935\n",
      "Epoch 20/25\n",
      "5000/5000 [==============================] - 3s 635us/step - loss: 0.6933\n",
      "Epoch 21/25\n",
      "5000/5000 [==============================] - 3s 633us/step - loss: 0.6929\n",
      "Epoch 22/25\n",
      "5000/5000 [==============================] - 3s 637us/step - loss: 0.6932\n",
      "Epoch 23/25\n",
      "5000/5000 [==============================] - 3s 632us/step - loss: 0.6931\n",
      "Epoch 24/25\n",
      "5000/5000 [==============================] - 3s 636us/step - loss: 0.6934\n",
      "Epoch 25/25\n",
      "5000/5000 [==============================] - 3s 682us/step - loss: 0.6931\n"
     ]
    }
   ],
   "source": [
    "score = baseline_test()"
   ]
  },
  {
   "cell_type": "code",
   "execution_count": 6,
   "metadata": {},
   "outputs": [
    {
     "data": {
      "text/plain": [
       "1375.0060460603186"
      ]
     },
     "execution_count": 6,
     "metadata": {},
     "output_type": "execute_result"
    }
   ],
   "source": [
    "score"
   ]
  },
  {
   "cell_type": "code",
   "execution_count": 18,
   "metadata": {},
   "outputs": [
    {
     "data": {
      "text/plain": [
       "array([ 0.88235,  0.88889,  0.90476,  0.88095,  0.88235,  0.90476,\n",
       "        0.9    ,  0.9    ,  0.89071,  0.89305,  0.89474,  0.88095,\n",
       "        0.88889,  0.90476,  0.89107,  0.88571,  0.87531,  0.87745,\n",
       "        0.88235,  0.90909,  0.90909,  0.88889])"
      ]
     },
     "execution_count": 18,
     "metadata": {},
     "output_type": "execute_result"
    }
   ],
   "source": [
    "x.reshape(7944*11, 22)[0]"
   ]
  },
  {
   "cell_type": "code",
   "execution_count": 11,
   "metadata": {},
   "outputs": [
    {
     "name": "stderr",
     "output_type": "stream",
     "text": [
      "/home/ben/PycharmProjects/line_scraper/rl/vae.py:47: UserWarning: Output \"dense_12\" missing from loss dictionary. We assume this was done on purpose, and we will not be expecting any data to be passed to \"dense_12\" during training.\n",
      "  self.vae.compile(optimizer='rmsprop')\n"
     ]
    }
   ],
   "source": [
    "vae = VAE(22, 4, 10)"
   ]
  },
  {
   "cell_type": "code",
   "execution_count": 12,
   "metadata": {
    "scrolled": true
   },
   "outputs": [
    {
     "name": "stdout",
     "output_type": "stream",
     "text": [
      "Epoch 1/5\n",
      "55000/55000 [==============================] - 4s 81us/step - loss: 15.2038\n",
      "Epoch 2/5\n",
      "55000/55000 [==============================] - 4s 76us/step - loss: 15.1201\n",
      "Epoch 3/5\n",
      "55000/55000 [==============================] - 4s 74us/step - loss: 15.1161\n",
      "Epoch 4/5\n",
      "55000/55000 [==============================] - 4s 76us/step - loss: 15.1090\n",
      "Epoch 5/5\n",
      "55000/55000 [==============================] - 4s 76us/step - loss: 15.1092\n"
     ]
    },
    {
     "data": {
      "text/plain": [
       "<keras.callbacks.History at 0x7f3e906349b0>"
      ]
     },
     "execution_count": 12,
     "metadata": {},
     "output_type": "execute_result"
    }
   ],
   "source": [
    "vae.vae.fit(x_train.reshape(5000*11, 22), epochs=5)"
   ]
  },
  {
   "cell_type": "code",
   "execution_count": 13,
   "metadata": {},
   "outputs": [],
   "source": [
    "encodings = np.array([vae.encoder.predict(x) for x in x_train])"
   ]
  },
  {
   "cell_type": "code",
   "execution_count": 14,
   "metadata": {},
   "outputs": [
    {
     "data": {
      "text/plain": [
       "(5000, 11, 4)"
      ]
     },
     "execution_count": 14,
     "metadata": {},
     "output_type": "execute_result"
    }
   ],
   "source": [
    "encodings.shape"
   ]
  },
  {
   "cell_type": "code",
   "execution_count": 16,
   "metadata": {},
   "outputs": [],
   "source": [
    "def vae_test():\n",
    "    vae = VAE(22, 4, 10)\n",
    "    vae.vae.fit(x_train.reshape(5000*11, 22), epochs=10)\n",
    "    encodings = np.array([vae.encoder.predict(x) for x in x_train])\n",
    "    test_encodings = np.array([vae.encoder.predict(x) for x in x_test])\n",
    "    away_test_encodings = np.array([vae.encoder.predict(x) for x in away_x_test])\n",
    "    optimizer = Adam(lr=.001)\n",
    "    model = Sequential()\n",
    "    model.add(LSTM(units=32, activation='sigmoid', recurrent_activation='hard_sigmoid',\n",
    "                   input_shape=(11, 4), return_sequences=True))\n",
    "    model.add(LSTM(units=32, activation='sigmoid', recurrent_activation='hard_sigmoid'))\n",
    "    model.add(Dense(1))\n",
    "    model.add(Activation('sigmoid'))\n",
    "    model.compile(loss='binary_crossentropy', optimizer=optimizer)\n",
    "    model.fit(encodings, y_train, epochs=25)\n",
    "    pred = model.predict(test_encodings)\n",
    "    return generic_score(model, pred, x_test, away_x_test, y_test, games_test)"
   ]
  },
  {
   "cell_type": "code",
   "execution_count": 17,
   "metadata": {
    "scrolled": true
   },
   "outputs": [
    {
     "name": "stderr",
     "output_type": "stream",
     "text": [
      "/home/ben/PycharmProjects/line_scraper/rl/vae.py:47: UserWarning: Output \"dense_17\" missing from loss dictionary. We assume this was done on purpose, and we will not be expecting any data to be passed to \"dense_17\" during training.\n",
      "  self.vae.compile(optimizer='rmsprop')\n"
     ]
    },
    {
     "name": "stdout",
     "output_type": "stream",
     "text": [
      "Epoch 1/10\n",
      "55000/55000 [==============================] - 4s 80us/step - loss: 15.1573\n",
      "Epoch 2/10\n",
      "55000/55000 [==============================] - 4s 75us/step - loss: 15.1161\n",
      "Epoch 3/10\n",
      "55000/55000 [==============================] - 4s 77us/step - loss: 15.1078\n",
      "Epoch 4/10\n",
      "55000/55000 [==============================] - 4s 76us/step - loss: 15.1030\n",
      "Epoch 5/10\n",
      "55000/55000 [==============================] - 4s 76us/step - loss: 15.1033\n",
      "Epoch 6/10\n",
      "55000/55000 [==============================] - 4s 79us/step - loss: 15.1006\n",
      "Epoch 7/10\n",
      "55000/55000 [==============================] - 4s 78us/step - loss: 15.1005\n",
      "Epoch 8/10\n",
      "55000/55000 [==============================] - 4s 80us/step - loss: 15.1001\n",
      "Epoch 9/10\n",
      "55000/55000 [==============================] - 4s 80us/step - loss: 15.1005\n",
      "Epoch 10/10\n",
      "55000/55000 [==============================] - 4s 80us/step - loss: 15.0980\n",
      "Epoch 1/25\n",
      "5000/5000 [==============================] - 4s 761us/step - loss: 0.6951\n",
      "Epoch 2/25\n",
      "5000/5000 [==============================] - 3s 641us/step - loss: 0.6937\n",
      "Epoch 3/25\n",
      "5000/5000 [==============================] - 3s 655us/step - loss: 0.6934\n",
      "Epoch 4/25\n",
      "5000/5000 [==============================] - 3s 653us/step - loss: 0.6941\n",
      "Epoch 5/25\n",
      "5000/5000 [==============================] - 3s 650us/step - loss: 0.6940\n",
      "Epoch 6/25\n",
      "5000/5000 [==============================] - 3s 647us/step - loss: 0.6938\n",
      "Epoch 7/25\n",
      "5000/5000 [==============================] - 3s 648us/step - loss: 0.6935\n",
      "Epoch 8/25\n",
      "5000/5000 [==============================] - 3s 649us/step - loss: 0.6940\n",
      "Epoch 9/25\n",
      "5000/5000 [==============================] - 3s 650us/step - loss: 0.6933\n",
      "Epoch 10/25\n",
      "5000/5000 [==============================] - 3s 646us/step - loss: 0.6934\n",
      "Epoch 11/25\n",
      "5000/5000 [==============================] - 3s 648us/step - loss: 0.6929\n",
      "Epoch 12/25\n",
      "5000/5000 [==============================] - 3s 648us/step - loss: 0.6932\n",
      "Epoch 13/25\n",
      "5000/5000 [==============================] - 3s 651us/step - loss: 0.6939\n",
      "Epoch 14/25\n",
      "5000/5000 [==============================] - 3s 654us/step - loss: 0.6933\n",
      "Epoch 15/25\n",
      "5000/5000 [==============================] - 3s 652us/step - loss: 0.6934\n",
      "Epoch 16/25\n",
      "5000/5000 [==============================] - 3s 656us/step - loss: 0.6934\n",
      "Epoch 17/25\n",
      "5000/5000 [==============================] - 3s 648us/step - loss: 0.6933\n",
      "Epoch 18/25\n",
      "5000/5000 [==============================] - 3s 653us/step - loss: 0.6935\n",
      "Epoch 19/25\n",
      "5000/5000 [==============================] - 3s 670us/step - loss: 0.6941\n",
      "Epoch 20/25\n",
      "5000/5000 [==============================] - 3s 662us/step - loss: 0.6931\n",
      "Epoch 21/25\n",
      "5000/5000 [==============================] - 3s 670us/step - loss: 0.6933\n",
      "Epoch 22/25\n",
      "5000/5000 [==============================] - 3s 659us/step - loss: 0.6933\n",
      "Epoch 23/25\n",
      "5000/5000 [==============================] - 3s 657us/step - loss: 0.6937\n",
      "Epoch 24/25\n",
      "5000/5000 [==============================] - 3s 664us/step - loss: 0.6928\n",
      "Epoch 25/25\n",
      "5000/5000 [==============================] - 3s 684us/step - loss: 0.6930\n"
     ]
    }
   ],
   "source": [
    "vae_score = vae_test()"
   ]
  },
  {
   "cell_type": "code",
   "execution_count": 18,
   "metadata": {},
   "outputs": [
    {
     "data": {
      "text/plain": [
       "1538.0066699122654"
      ]
     },
     "execution_count": 18,
     "metadata": {},
     "output_type": "execute_result"
    }
   ],
   "source": [
    "vae_score"
   ]
  },
  {
   "cell_type": "code",
   "execution_count": 32,
   "metadata": {
    "collapsed": true
   },
   "outputs": [],
   "source": [
    "params = {\n",
    "    'tol': [.025, .05],#, .05, .07],\n",
    "    'n_hidden_layers': [1, 2, 3],\n",
    "    'lr': [.001, .005],\n",
    "    'lstm_units': [16, 32, 128],\n",
    "    'sequence_length': [10],\n",
    "    'epochs': [100]\n",
    "}"
   ]
  },
  {
   "cell_type": "code",
   "execution_count": null,
   "metadata": {},
   "outputs": [],
   "source": []
  },
  {
   "cell_type": "code",
   "execution_count": 33,
   "metadata": {
    "scrolled": true
   },
   "outputs": [
    {
     "name": "stderr",
     "output_type": "stream",
     "text": [
      "0it [00:00, ?it/s]\n",
      "0it [00:00, ?it/s]\u001b[A\n",
      "1it [01:21, 81.15s/it]\u001b[A\n",
      "2it [02:41, 80.79s/it]\u001b[A\n",
      "3it [04:01, 80.71s/it]\u001b[A\n",
      "4it [05:22, 80.81s/it]\u001b[A\n",
      "1it [05:28, 328.00s/it]\n",
      "0it [00:00, ?it/s]\u001b[A\n",
      "1it [01:55, 115.83s/it]\u001b[A\n",
      "2it [03:51, 115.93s/it]\u001b[A\n",
      "3it [05:47, 115.82s/it]\u001b[A\n",
      "4it [07:38, 114.21s/it]\u001b[A\n",
      "2it [13:11, 368.62s/it]\n",
      "0it [00:00, ?it/s]\u001b[A\n",
      "1it [02:52, 172.12s/it]\u001b[A\n",
      "2it [05:28, 167.53s/it]\u001b[A\n",
      "3it [08:01, 163.14s/it]\u001b[A\n",
      "4it [10:34, 160.12s/it]\u001b[A\n",
      "3it [23:51, 450.16s/it]\n",
      "0it [00:00, ?it/s]\u001b[A\n",
      "1it [01:19, 79.84s/it]\u001b[A\n",
      "2it [02:44, 81.24s/it]\u001b[A\n",
      "3it [04:02, 80.41s/it]\u001b[A\n",
      "4it [05:21, 79.78s/it]\u001b[A\n",
      "4it [29:18, 413.05s/it]\n",
      "0it [00:00, ?it/s]\u001b[A\n",
      "1it [02:05, 125.35s/it]\u001b[A\n",
      "2it [04:01, 122.59s/it]\u001b[A\n",
      "3it [06:03, 122.27s/it]\u001b[A\n",
      "4it [07:59, 120.66s/it]\u001b[A\n",
      "5it [37:23, 434.72s/it]\n",
      "0it [00:00, ?it/s]\u001b[A\n",
      "1it [02:37, 157.10s/it]\u001b[A\n",
      "2it [05:12, 156.70s/it]\u001b[A\n",
      "3it [07:43, 154.83s/it]\u001b[A\n",
      "4it [10:26, 157.19s/it]\u001b[A\n",
      "6it [47:55, 493.76s/it]\n",
      "0it [00:00, ?it/s]\u001b[A\n",
      "1it [02:06, 126.08s/it]\u001b[A\n",
      "2it [04:13, 126.54s/it]\u001b[A\n",
      "3it [06:19, 126.20s/it]\u001b[A\n",
      "4it [08:25, 126.37s/it]\u001b[A\n",
      "7it [56:26, 499.04s/it]\n",
      "0it [00:00, ?it/s]\u001b[A\n",
      "1it [03:18, 198.82s/it]\u001b[A\n",
      "2it [06:26, 195.48s/it]\u001b[A\n",
      "3it [09:49, 197.72s/it]\u001b[A\n",
      "4it [13:01, 195.97s/it]\u001b[A\n",
      "8it [1:09:33, 585.37s/it]\n",
      "0it [00:00, ?it/s]\u001b[A\n",
      "1it [04:12, 252.34s/it]\u001b[A\n",
      "2it [08:35, 255.58s/it]\u001b[A\n",
      "3it [12:55, 256.77s/it]\u001b[A\n",
      "4it [17:03, 254.22s/it]\u001b[A\n",
      "9it [1:26:42, 718.41s/it]\n",
      "0it [00:00, ?it/s]\u001b[A\n",
      "1it [01:32, 92.44s/it]\u001b[A\n",
      "2it [02:51, 88.34s/it]\u001b[A\n",
      "3it [04:09, 85.39s/it]\u001b[A\n",
      "4it [05:29, 83.67s/it]\u001b[A\n",
      "10it [1:32:16, 603.25s/it]\n",
      "0it [00:00, ?it/s]\u001b[A\n",
      "1it [01:55, 115.32s/it]\u001b[A\n",
      "2it [04:09, 120.88s/it]\u001b[A\n",
      "3it [06:04, 119.35s/it]\u001b[A\n",
      "4it [07:59, 117.99s/it]\u001b[A\n",
      "11it [1:40:21, 567.82s/it]\n",
      "0it [00:00, ?it/s]\u001b[A\n",
      "1it [02:28, 148.84s/it]\u001b[A\n",
      "2it [05:15, 154.30s/it]\u001b[A\n",
      "3it [07:45, 152.98s/it]\u001b[A\n",
      "4it [10:11, 150.76s/it]\u001b[A\n",
      "12it [1:50:38, 582.54s/it]\n",
      "0it [00:00, ?it/s]\u001b[A\n",
      "1it [01:19, 79.19s/it]\u001b[A\n",
      "2it [02:56, 84.77s/it]\u001b[A\n",
      "3it [04:18, 83.65s/it]\u001b[A\n",
      "4it [05:38, 82.66s/it]\u001b[A\n",
      "13it [1:56:22, 510.85s/it]\n",
      "0it [00:00, ?it/s]\u001b[A\n",
      "1it [01:57, 117.53s/it]\u001b[A\n",
      "2it [03:51, 116.59s/it]\u001b[A\n",
      "3it [05:47, 116.31s/it]\u001b[A\n",
      "4it [08:05, 122.70s/it]\u001b[A\n",
      "14it [2:04:32, 504.74s/it]\n",
      "0it [00:00, ?it/s]\u001b[A\n",
      "1it [02:30, 150.91s/it]\u001b[A\n",
      "2it [05:04, 151.70s/it]\u001b[A\n",
      "3it [07:34, 151.29s/it]\u001b[A\n",
      "4it [10:28, 157.90s/it]\u001b[A\n",
      "15it [2:15:06, 543.43s/it]\n",
      "0it [00:00, ?it/s]\u001b[A\n",
      "1it [02:06, 126.62s/it]\u001b[A\n",
      "2it [04:12, 126.45s/it]\u001b[A\n",
      "3it [06:18, 126.37s/it]\u001b[A\n",
      "4it [08:23, 125.86s/it]\u001b[A\n",
      "16it [2:23:35, 533.11s/it]\n",
      "0it [00:00, ?it/s]\u001b[A\n",
      "1it [03:11, 191.11s/it]\u001b[A\n",
      "2it [06:23, 191.36s/it]\u001b[A\n",
      "3it [09:54, 197.51s/it]\u001b[A\n",
      "4it [13:07, 195.98s/it]\u001b[A\n",
      "17it [2:36:48, 611.00s/it]\n",
      "0it [00:00, ?it/s]\u001b[A\n",
      "1it [04:16, 256.37s/it]\u001b[A\n",
      "2it [08:26, 254.65s/it]\u001b[A\n",
      "3it [12:41, 254.50s/it]\u001b[A\n",
      "4it [17:14, 260.20s/it]\u001b[A\n",
      "18it [2:54:08, 739.78s/it]\n",
      "0it [00:00, ?it/s]\u001b[A\n",
      "1it [01:18, 78.79s/it]\u001b[A\n",
      "2it [02:36, 78.61s/it]\u001b[A\n",
      "3it [03:54, 78.41s/it]\u001b[A\n",
      "4it [05:12, 78.19s/it]\u001b[A\n",
      "19it [2:59:26, 613.25s/it]\n",
      "0it [00:00, ?it/s]\u001b[A\n",
      "1it [01:52, 112.40s/it]\u001b[A\n",
      "2it [03:46, 112.77s/it]\u001b[A\n",
      "3it [05:40, 113.19s/it]\u001b[A\n",
      "4it [08:00, 121.40s/it]\u001b[A\n",
      "20it [3:07:32, 575.10s/it]\n",
      "0it [00:00, ?it/s]\u001b[A\n",
      "1it [02:28, 148.96s/it]\u001b[A\n",
      "2it [04:57, 148.91s/it]\u001b[A\n",
      "3it [07:25, 148.69s/it]\u001b[A\n",
      "4it [09:53, 148.41s/it]\u001b[A\n",
      "21it [3:17:31, 582.39s/it]\n",
      "0it [00:00, ?it/s]\u001b[A\n",
      "1it [01:20, 80.90s/it]\u001b[A\n",
      "2it [02:40, 80.60s/it]\u001b[A\n",
      "3it [04:28, 88.85s/it]\u001b[A\n",
      "4it [05:53, 87.53s/it]\u001b[A\n",
      "22it [3:23:30, 515.34s/it]\n",
      "0it [00:00, ?it/s]\u001b[A\n",
      "1it [01:58, 118.84s/it]\u001b[A\n",
      "2it [03:56, 118.61s/it]\u001b[A\n",
      "3it [05:56, 119.01s/it]\u001b[A\n",
      "4it [07:53, 118.45s/it]\u001b[A\n",
      "23it [3:31:30, 504.59s/it]\n",
      "0it [00:00, ?it/s]\u001b[A\n",
      "1it [02:32, 152.19s/it]\u001b[A\n",
      "2it [05:02, 151.52s/it]\u001b[A\n",
      "3it [08:01, 159.80s/it]\u001b[A\n",
      "4it [10:36, 158.45s/it]\u001b[A\n",
      "24it [3:42:12, 545.84s/it]\n",
      "0it [00:00, ?it/s]\u001b[A\n",
      "1it [02:05, 125.32s/it]\u001b[A\n",
      "2it [04:10, 125.38s/it]\u001b[A\n",
      "3it [06:17, 125.74s/it]\u001b[A\n",
      "4it [08:25, 126.49s/it]\u001b[A\n",
      "25it [3:50:43, 535.39s/it]\n",
      "0it [00:00, ?it/s]\u001b[A\n",
      "1it [03:12, 192.63s/it]\u001b[A\n",
      "2it [06:24, 192.39s/it]\u001b[A\n",
      "3it [09:37, 192.61s/it]\u001b[A\n",
      "4it [13:21, 201.98s/it]\u001b[A\n",
      "26it [4:04:10, 616.86s/it]\n",
      "0it [00:00, ?it/s]\u001b[A\n",
      "1it [04:15, 255.24s/it]\u001b[A\n",
      "2it [08:34, 256.54s/it]\u001b[A\n",
      "3it [12:56, 258.19s/it]\u001b[A\n",
      "4it [17:14, 258.03s/it]\u001b[A\n",
      "27it [4:21:30, 743.89s/it]\n",
      "0it [00:00, ?it/s]\u001b[A\n",
      "1it [01:20, 80.28s/it]\u001b[A\n",
      "2it [02:38, 79.64s/it]\u001b[A\n",
      "3it [03:56, 79.19s/it]\u001b[A\n",
      "4it [05:15, 79.01s/it]\u001b[A\n",
      "28it [4:26:51, 616.82s/it]\n",
      "0it [00:00, ?it/s]\u001b[A\n",
      "1it [01:54, 114.41s/it]\u001b[A\n",
      "2it [04:22, 124.54s/it]\u001b[A\n",
      "3it [06:19, 122.28s/it]\u001b[A\n",
      "4it [08:17, 121.09s/it]\u001b[A\n",
      "29it [4:35:14, 582.73s/it]\n",
      "0it [00:00, ?it/s]\u001b[A\n",
      "1it [02:30, 150.81s/it]\u001b[A\n",
      "2it [05:01, 150.89s/it]\u001b[A\n",
      "3it [07:34, 151.49s/it]\u001b[A\n",
      "4it [10:07, 151.79s/it]\u001b[A\n",
      "30it [4:45:27, 591.77s/it]\n",
      "0it [00:00, ?it/s]\u001b[A\n",
      "1it [01:22, 82.12s/it]\u001b[A\n",
      "2it [02:44, 82.09s/it]\u001b[A\n",
      "3it [04:07, 82.33s/it]\u001b[A\n",
      "4it [06:08, 94.01s/it]\u001b[A\n",
      "31it [4:51:40, 526.32s/it]\n",
      "0it [00:00, ?it/s]\u001b[A\n",
      "1it [02:00, 120.06s/it]\u001b[A\n",
      "2it [03:57, 119.25s/it]\u001b[A\n",
      "3it [05:56, 119.28s/it]\u001b[A\n",
      "4it [07:53, 118.51s/it]\u001b[A\n",
      "32it [4:59:39, 512.15s/it]\n",
      "0it [00:00, ?it/s]\u001b[A\n",
      "1it [02:37, 157.92s/it]\u001b[A\n",
      "2it [05:11, 156.47s/it]\u001b[A\n",
      "3it [07:42, 154.85s/it]\u001b[A\n",
      "4it [10:16, 154.64s/it]\u001b[A\n",
      "33it [5:10:01, 545.00s/it]\n",
      "0it [00:00, ?it/s]\u001b[A\n",
      "1it [02:06, 126.30s/it]\u001b[A\n",
      "2it [04:54, 138.75s/it]\u001b[A\n",
      "3it [07:08, 137.38s/it]\u001b[A\n",
      "4it [09:20, 135.90s/it]\u001b[A\n",
      "34it [5:19:27, 551.28s/it]\n",
      "0it [00:00, ?it/s]\u001b[A\n",
      "1it [03:16, 196.15s/it]\u001b[A\n",
      "2it [06:31, 196.05s/it]\u001b[A\n",
      "3it [09:49, 196.49s/it]\u001b[A\n",
      "4it [13:05, 196.38s/it]\u001b[A\n",
      "35it [5:32:38, 623.30s/it]\n",
      "0it [00:00, ?it/s]\u001b[A\n",
      "1it [04:21, 261.86s/it]\u001b[A\n",
      "2it [08:48, 263.31s/it]\u001b[A\n",
      "3it [13:15, 264.43s/it]\u001b[A\n",
      "4it [17:43, 265.47s/it]\u001b[A\n",
      "36it [5:50:27, 757.07s/it]\n"
     ]
    }
   ],
   "source": [
    "results = run_gridsearch(**params)"
   ]
  },
  {
   "cell_type": "code",
   "execution_count": 6,
   "metadata": {
    "collapsed": true
   },
   "outputs": [],
   "source": [
    "df = pd.DataFrame(results).sort_values('mean', ascending=False)"
   ]
  },
  {
   "cell_type": "code",
   "execution_count": 7,
   "metadata": {
    "scrolled": true
   },
   "outputs": [
    {
     "data": {
      "text/html": [
       "<div>\n",
       "<style>\n",
       "    .dataframe thead tr:only-child th {\n",
       "        text-align: right;\n",
       "    }\n",
       "\n",
       "    .dataframe thead th {\n",
       "        text-align: left;\n",
       "    }\n",
       "\n",
       "    .dataframe tbody tr th {\n",
       "        vertical-align: top;\n",
       "    }\n",
       "</style>\n",
       "<table border=\"1\" class=\"dataframe\">\n",
       "  <thead>\n",
       "    <tr style=\"text-align: right;\">\n",
       "      <th></th>\n",
       "      <th>bt</th>\n",
       "      <th>max</th>\n",
       "      <th>mean</th>\n",
       "      <th>min</th>\n",
       "      <th>params</th>\n",
       "      <th>sd</th>\n",
       "    </tr>\n",
       "  </thead>\n",
       "  <tbody>\n",
       "    <tr>\n",
       "      <th>0</th>\n",
       "      <td>&lt;dash_app.run_model.Backtest object at 0x7f5f7...</td>\n",
       "      <td>3431.474811</td>\n",
       "      <td>2911.104510</td>\n",
       "      <td>2157.498921</td>\n",
       "      <td>{'tol': 0.05, 'sequence_length': 10, 'epochs':...</td>\n",
       "      <td>494.952615</td>\n",
       "    </tr>\n",
       "    <tr>\n",
       "      <th>1</th>\n",
       "      <td>&lt;dash_app.run_model.Backtest object at 0x7f5ed...</td>\n",
       "      <td>3084.470930</td>\n",
       "      <td>2756.113259</td>\n",
       "      <td>2271.996824</td>\n",
       "      <td>{'tol': 0.05, 'sequence_length': 10, 'epochs':...</td>\n",
       "      <td>304.134975</td>\n",
       "    </tr>\n",
       "  </tbody>\n",
       "</table>\n",
       "</div>"
      ],
      "text/plain": [
       "                                                  bt          max  \\\n",
       "0  <dash_app.run_model.Backtest object at 0x7f5f7...  3431.474811   \n",
       "1  <dash_app.run_model.Backtest object at 0x7f5ed...  3084.470930   \n",
       "\n",
       "          mean          min  \\\n",
       "0  2911.104510  2157.498921   \n",
       "1  2756.113259  2271.996824   \n",
       "\n",
       "                                              params          sd  \n",
       "0  {'tol': 0.05, 'sequence_length': 10, 'epochs':...  494.952615  \n",
       "1  {'tol': 0.05, 'sequence_length': 10, 'epochs':...  304.134975  "
      ]
     },
     "execution_count": 7,
     "metadata": {},
     "output_type": "execute_result"
    }
   ],
   "source": [
    "df"
   ]
  },
  {
   "cell_type": "code",
   "execution_count": 8,
   "metadata": {},
   "outputs": [
    {
     "data": {
      "text/plain": [
       "array([ {'tol': 0.05, 'sequence_length': 10, 'epochs': 50, 'n_hidden_layers': 2, 'lstm_units': 32},\n",
       "       {'tol': 0.05, 'sequence_length': 10, 'epochs': 50, 'n_hidden_layers': 2, 'lstm_units': 128}], dtype=object)"
      ]
     },
     "execution_count": 8,
     "metadata": {},
     "output_type": "execute_result"
    }
   ],
   "source": [
    "df.params.values[:2]"
   ]
  },
  {
   "cell_type": "code",
   "execution_count": 9,
   "metadata": {},
   "outputs": [],
   "source": [
    "bt = df.bt.values[0]"
   ]
  },
  {
   "cell_type": "code",
   "execution_count": 10,
   "metadata": {},
   "outputs": [
    {
     "data": {
      "text/plain": [
       "[2788.968745116897, 2157.4989207478743, 3431.4748106855291, 3266.4755648673581]"
      ]
     },
     "execution_count": 10,
     "metadata": {},
     "output_type": "execute_result"
    }
   ],
   "source": [
    "bt.scores"
   ]
  },
  {
   "cell_type": "code",
   "execution_count": 11,
   "metadata": {
    "scrolled": true
   },
   "outputs": [
    {
     "data": {
      "text/plain": [
       "[75, 65, 73, 82]"
      ]
     },
     "execution_count": 11,
     "metadata": {},
     "output_type": "execute_result"
    }
   ],
   "source": [
    "[len(x) for x in bt.games_bet]"
   ]
  },
  {
   "cell_type": "code",
   "execution_count": 12,
   "metadata": {
    "collapsed": true
   },
   "outputs": [],
   "source": [
    "kf = StratifiedKFold(n_splits=4, shuffle=True, random_state=42)"
   ]
  },
  {
   "cell_type": "code",
   "execution_count": 13,
   "metadata": {},
   "outputs": [
    {
     "name": "stdout",
     "output_type": "stream",
     "text": [
      "143\n",
      "140\n",
      "143\n",
      "142\n"
     ]
    }
   ],
   "source": [
    "for train_idx, test_idx in kf.split(bt.home_X, bt.home_y):\n",
    "    test_home_X, test_y, test_away_X, games = bt.home_X[test_idx], bt.home_y[test_idx], bt.away_X[test_idx], bt.games[test_idx]\n",
    "    print(len(np.unique(games)))"
   ]
  },
  {
   "cell_type": "code",
   "execution_count": 14,
   "metadata": {
    "collapsed": true
   },
   "outputs": [],
   "source": [
    "model = bt.model"
   ]
  },
  {
   "cell_type": "code",
   "execution_count": 15,
   "metadata": {},
   "outputs": [
    {
     "data": {
      "text/plain": [
       "1.0"
      ]
     },
     "execution_count": 15,
     "metadata": {},
     "output_type": "execute_result"
    }
   ],
   "source": [
    "test_y[0]"
   ]
  },
  {
   "cell_type": "code",
   "execution_count": 29,
   "metadata": {
    "scrolled": true
   },
   "outputs": [
    {
     "data": {
      "text/plain": [
       "array([[ 0.42553,  0.41667,  0.42553,  0.41841,  0.41841,  0.42553,\n",
       "         0.41667,  0.41667,  0.42553,  0.42017,  0.42553,  0.42194,\n",
       "         0.42553,  0.42553,  0.42553,  0.41494,  0.41322,  0.42017,\n",
       "         0.41841,  0.41667,  0.41667,  0.42553],\n",
       "       [ 0.41667,  0.41667,  0.41667,  0.42918,  0.42194,  0.42194,\n",
       "         0.40816,  0.41667,  0.41667,  0.42017,  0.42553,  0.41322,\n",
       "         0.42553,  0.41667,  0.42553,  0.41494,  0.42373,  0.41152,\n",
       "         0.42194,  0.41667,  0.41667,  0.41667],\n",
       "       [ 0.41667,  0.42553,  0.41667,  0.42735,  0.42194,  0.42194,\n",
       "         0.40816,  0.42553,  0.41667,  0.42017,  0.42553,  0.41322,\n",
       "         0.42553,  0.41667,  0.42553,  0.42373,  0.42194,  0.41152,\n",
       "         0.42194,  0.41667,  0.41667,  0.41667],\n",
       "       [ 0.41667,  0.42553,  0.41667,  0.42735,  0.42194,  0.42194,\n",
       "         0.40816,  0.42553,  0.41667,  0.42017,  0.42553,  0.41322,\n",
       "         0.42553,  0.41667,  0.42553,  0.42373,  0.42194,  0.41152,\n",
       "         0.42194,  0.41667,  0.41667,  0.42553],\n",
       "       [ 0.41667,  0.42553,  0.41667,  0.42735,  0.42194,  0.42194,\n",
       "         0.40816,  0.42553,  0.41667,  0.42017,  0.42553,  0.41322,\n",
       "         0.42553,  0.42194,  0.42553,  0.42373,  0.42194,  0.41152,\n",
       "         0.42194,  0.41667,  0.41667,  0.42553],\n",
       "       [ 0.41667,  0.41667,  0.41667,  0.41322,  0.41322,  0.42194,\n",
       "         0.40816,  0.42553,  0.41667,  0.42017,  0.42553,  0.41322,\n",
       "         0.42553,  0.42194,  0.41667,  0.41152,  0.40984,  0.41152,\n",
       "         0.41322,  0.41667,  0.41667,  0.42553],\n",
       "       [ 0.41667,  0.41667,  0.41667,  0.41322,  0.41152,  0.42194,\n",
       "         0.40816,  0.42553,  0.41667,  0.42017,  0.41667,  0.41322,\n",
       "         0.42553,  0.42194,  0.41667,  0.41152,  0.40984,  0.41152,\n",
       "         0.41152,  0.41667,  0.41667,  0.41667],\n",
       "       [ 0.41667,  0.41667,  0.41667,  0.41322,  0.41152,  0.41494,\n",
       "         0.40816,  0.42553,  0.41494,  0.42017,  0.41667,  0.41322,\n",
       "         0.41667,  0.42194,  0.41667,  0.41152,  0.40984,  0.41152,\n",
       "         0.41152,  0.41667,  0.41667,  0.41667],\n",
       "       [ 0.41667,  0.41667,  0.41667,  0.41322,  0.41152,  0.41494,\n",
       "         0.40816,  0.42553,  0.41494,  0.42017,  0.41667,  0.41322,\n",
       "         0.41667,  0.42194,  0.41667,  0.41152,  0.40984,  0.41152,\n",
       "         0.41152,  0.41667,  0.40816,  0.41667],\n",
       "       [ 0.41667,  0.41667,  0.41667,  0.41322,  0.41152,  0.41494,\n",
       "         0.40816,  0.42553,  0.41494,  0.42017,  0.41667,  0.41322,\n",
       "         0.41667,  0.41494,  0.41667,  0.41152,  0.40984,  0.41152,\n",
       "         0.41152,  0.41667,  0.40816,  0.41667],\n",
       "       [ 0.41667,  0.41667,  0.41667,  0.41322,  0.41152,  0.41152,\n",
       "         0.40816,  0.42553,  0.41152,  0.42017,  0.41667,  0.41322,\n",
       "         0.41667,  0.41494,  0.41667,  0.41152,  0.40984,  0.41152,\n",
       "         0.41152,  0.41667,  0.40816,  0.41667]])"
      ]
     },
     "execution_count": 29,
     "metadata": {},
     "output_type": "execute_result"
    }
   ],
   "source": [
    "test_home_X[test_y==0][5]"
   ]
  },
  {
   "cell_type": "code",
   "execution_count": 30,
   "metadata": {
    "collapsed": true
   },
   "outputs": [],
   "source": [
    "pred = model.predict_proba(test_home_X)"
   ]
  },
  {
   "cell_type": "code",
   "execution_count": 31,
   "metadata": {},
   "outputs": [
    {
     "data": {
      "text/plain": [
       "array([ 0.55919439], dtype=float32)"
      ]
     },
     "execution_count": 31,
     "metadata": {},
     "output_type": "execute_result"
    }
   ],
   "source": [
    "pred[test_y==0][5]"
   ]
  },
  {
   "cell_type": "code",
   "execution_count": 19,
   "metadata": {
    "collapsed": true
   },
   "outputs": [],
   "source": [
    "_classes = model.predict_classes(test_home_X)"
   ]
  },
  {
   "cell_type": "code",
   "execution_count": 20,
   "metadata": {},
   "outputs": [
    {
     "name": "stdout",
     "output_type": "stream",
     "text": [
      "             precision    recall  f1-score   support\n",
      "\n",
      "        0.0       0.54      0.81      0.65       844\n",
      "        1.0       0.57      0.26      0.36       782\n",
      "\n",
      "avg / total       0.56      0.55      0.51      1626\n",
      "\n"
     ]
    }
   ],
   "source": [
    "print(classification_report(test_y, _classes))"
   ]
  },
  {
   "cell_type": "code",
   "execution_count": null,
   "metadata": {
    "collapsed": true
   },
   "outputs": [],
   "source": []
  },
  {
   "cell_type": "code",
   "execution_count": 21,
   "metadata": {},
   "outputs": [
    {
     "data": {
      "text/plain": [
       "array([-0.42354976, -0.43922976, -0.45161976, -0.43187976, -0.43566976,\n",
       "       -0.43922976, -0.44576976, -0.45687976, -0.43492976, -0.44232976,\n",
       "       -0.43187976, -0.43492976, -0.43782976, -0.45161976, -0.43462976,\n",
       "       -0.43249976, -0.42155976, -0.41875976, -0.43566976, -0.45687976,\n",
       "       -0.44576976, -0.44576976])"
      ]
     },
     "execution_count": 21,
     "metadata": {},
     "output_type": "execute_result"
    }
   ],
   "source": [
    "p_diff = pred[0] - test_home_X[0][-1]\n",
    "p_diff"
   ]
  },
  {
   "cell_type": "code",
   "execution_count": 22,
   "metadata": {},
   "outputs": [
    {
     "data": {
      "text/plain": [
       "<matplotlib.axes._subplots.AxesSubplot at 0x7f5ebc0563c8>"
      ]
     },
     "execution_count": 22,
     "metadata": {},
     "output_type": "execute_result"
    },
    {
     "data": {
      "image/png": "[encoded data removed]",
      "text/plain": [
       "<matplotlib.figure.Figure at 0x7f5ebc049d68>"
      ]
     },
     "metadata": {},
     "output_type": "display_data"
    }
   ],
   "source": [
    "sns.distplot(pred)"
   ]
  },
  {
   "cell_type": "code",
   "execution_count": 23,
   "metadata": {},
   "outputs": [
    {
     "data": {
      "text/plain": [
       "<matplotlib.axes._subplots.AxesSubplot at 0x7f5ebbf706d8>"
      ]
     },
     "execution_count": 23,
     "metadata": {},
     "output_type": "execute_result"
    },
    {
     "data": {
      "image/png": "[encoded data removed]",
      "text/plain": [
       "<matplotlib.figure.Figure at 0x7f5ebbfbbac8>"
      ]
     },
     "metadata": {},
     "output_type": "display_data"
    }
   ],
   "source": [
    "sns.distplot((pred - test_home_X[:, -1, :]).mean(axis=1))"
   ]
  },
  {
   "cell_type": "code",
   "execution_count": 24,
   "metadata": {},
   "outputs": [
    {
     "data": {
      "text/plain": [
       "0.48093480934809346"
      ]
     },
     "execution_count": 24,
     "metadata": {},
     "output_type": "execute_result"
    }
   ],
   "source": [
    "test_y.mean()"
   ]
  },
  {
   "cell_type": "code",
   "execution_count": 15,
   "metadata": {
    "collapsed": true
   },
   "outputs": [],
   "source": [
    "model.save('dash_app/trained_model.h5')"
   ]
  },
  {
   "cell_type": "code",
   "execution_count": 25,
   "metadata": {},
   "outputs": [
    {
     "data": {
      "text/plain": [
       "144"
      ]
     },
     "execution_count": 25,
     "metadata": {},
     "output_type": "execute_result"
    }
   ],
   "source": [
    "len(np.unique(bt.games))"
   ]
  },
  {
   "cell_type": "code",
   "execution_count": 26,
   "metadata": {},
   "outputs": [
    {
     "data": {
      "image/png": "[encoded data removed]",
      "text/plain": [
       "<matplotlib.figure.Figure at 0x7f5ebbf8ab38>"
      ]
     },
     "metadata": {},
     "output_type": "display_data"
    }
   ],
   "source": [
    "fig, ax = plt.subplots(figsize=(17, 8))\n",
    "for b in bt.balances:\n",
    "    ax.scatter(range(len(b)), b)"
   ]
  },
  {
   "cell_type": "code",
   "execution_count": 27,
   "metadata": {
    "collapsed": true
   },
   "outputs": [],
   "source": [
    "import seaborn as sns"
   ]
  },
  {
   "cell_type": "code",
   "execution_count": 28,
   "metadata": {},
   "outputs": [
    {
     "data": {
      "image/png": "[encoded data removed]",
      "text/plain": [
       "<matplotlib.figure.Figure at 0x7f5ebbdffbe0>"
      ]
     },
     "metadata": {},
     "output_type": "display_data"
    }
   ],
   "source": [
    "fig, ax = plt.subplots(figsize=(17, 8))\n",
    "for p in bt.probs:\n",
    "    sns.distplot(p)"
   ]
  },
  {
   "cell_type": "code",
   "execution_count": 19,
   "metadata": {},
   "outputs": [
    {
     "data": {
      "text/html": [
       "<div>\n",
       "<style>\n",
       "    .dataframe thead tr:only-child th {\n",
       "        text-align: right;\n",
       "    }\n",
       "\n",
       "    .dataframe thead th {\n",
       "        text-align: left;\n",
       "    }\n",
       "\n",
       "    .dataframe tbody tr th {\n",
       "        vertical-align: top;\n",
       "    }\n",
       "</style>\n",
       "<table border=\"1\" class=\"dataframe\">\n",
       "  <thead>\n",
       "    <tr style=\"text-align: right;\">\n",
       "      <th></th>\n",
       "      <th>bt</th>\n",
       "      <th>max</th>\n",
       "      <th>mean</th>\n",
       "      <th>min</th>\n",
       "      <th>params</th>\n",
       "      <th>sd</th>\n",
       "    </tr>\n",
       "  </thead>\n",
       "  <tbody>\n",
       "    <tr>\n",
       "      <th>11</th>\n",
       "      <td>&lt;dash_app.run_model.Backtest object at 0x7fa89...</td>\n",
       "      <td>1598.496940</td>\n",
       "      <td>1451.765239</td>\n",
       "      <td>1345.395495</td>\n",
       "      <td>{'lr': 0.005, 'tol': 0.07, 'sequence_length': 10}</td>\n",
       "      <td>107.197329</td>\n",
       "    </tr>\n",
       "    <tr>\n",
       "      <th>6</th>\n",
       "      <td>&lt;dash_app.run_model.Backtest object at 0x7fa8c...</td>\n",
       "      <td>1471.781040</td>\n",
       "      <td>1407.297078</td>\n",
       "      <td>1359.231173</td>\n",
       "      <td>{'lr': 0.005, 'tol': 0.025, 'sequence_length': 5}</td>\n",
       "      <td>47.392212</td>\n",
       "    </tr>\n",
       "    <tr>\n",
       "      <th>0</th>\n",
       "      <td>&lt;dash_app.run_model.Backtest object at 0x7fa94...</td>\n",
       "      <td>1461.993237</td>\n",
       "      <td>1401.264787</td>\n",
       "      <td>1342.979652</td>\n",
       "      <td>{'lr': 0.001, 'tol': 0.025, 'sequence_length': 5}</td>\n",
       "      <td>48.617800</td>\n",
       "    </tr>\n",
       "    <tr>\n",
       "      <th>3</th>\n",
       "      <td>&lt;dash_app.run_model.Backtest object at 0x7fa8d...</td>\n",
       "      <td>1455.500926</td>\n",
       "      <td>1379.137421</td>\n",
       "      <td>1340.008441</td>\n",
       "      <td>{'lr': 0.001, 'tol': 0.03, 'sequence_length': 10}</td>\n",
       "      <td>54.002691</td>\n",
       "    </tr>\n",
       "    <tr>\n",
       "      <th>2</th>\n",
       "      <td>&lt;dash_app.run_model.Backtest object at 0x7fa90...</td>\n",
       "      <td>1478.969104</td>\n",
       "      <td>1375.043413</td>\n",
       "      <td>1283.495323</td>\n",
       "      <td>{'lr': 0.001, 'tol': 0.03, 'sequence_length': 5}</td>\n",
       "      <td>80.280357</td>\n",
       "    </tr>\n",
       "    <tr>\n",
       "      <th>4</th>\n",
       "      <td>&lt;dash_app.run_model.Backtest object at 0x7fa8c...</td>\n",
       "      <td>1355.753280</td>\n",
       "      <td>1330.399922</td>\n",
       "      <td>1314.978195</td>\n",
       "      <td>{'lr': 0.001, 'tol': 0.07, 'sequence_length': 5}</td>\n",
       "      <td>18.067095</td>\n",
       "    </tr>\n",
       "    <tr>\n",
       "      <th>1</th>\n",
       "      <td>&lt;dash_app.run_model.Backtest object at 0x7fa8f...</td>\n",
       "      <td>1455.500926</td>\n",
       "      <td>1317.418422</td>\n",
       "      <td>1164.758616</td>\n",
       "      <td>{'lr': 0.001, 'tol': 0.025, 'sequence_length':...</td>\n",
       "      <td>119.141781</td>\n",
       "    </tr>\n",
       "    <tr>\n",
       "      <th>9</th>\n",
       "      <td>&lt;dash_app.run_model.Backtest object at 0x7fa8a...</td>\n",
       "      <td>1687.896314</td>\n",
       "      <td>1314.653976</td>\n",
       "      <td>951.102463</td>\n",
       "      <td>{'lr': 0.005, 'tol': 0.03, 'sequence_length': 10}</td>\n",
       "      <td>300.872873</td>\n",
       "    </tr>\n",
       "    <tr>\n",
       "      <th>5</th>\n",
       "      <td>&lt;dash_app.run_model.Backtest object at 0x7fa8b...</td>\n",
       "      <td>1319.197298</td>\n",
       "      <td>1306.067344</td>\n",
       "      <td>1296.997849</td>\n",
       "      <td>{'lr': 0.001, 'tol': 0.07, 'sequence_length': 10}</td>\n",
       "      <td>9.506818</td>\n",
       "    </tr>\n",
       "    <tr>\n",
       "      <th>10</th>\n",
       "      <td>&lt;dash_app.run_model.Backtest object at 0x7fa89...</td>\n",
       "      <td>1323.232261</td>\n",
       "      <td>1266.678032</td>\n",
       "      <td>1230.377849</td>\n",
       "      <td>{'lr': 0.005, 'tol': 0.07, 'sequence_length': 5}</td>\n",
       "      <td>40.522876</td>\n",
       "    </tr>\n",
       "    <tr>\n",
       "      <th>8</th>\n",
       "      <td>&lt;dash_app.run_model.Backtest object at 0x7fa8a...</td>\n",
       "      <td>1313.954887</td>\n",
       "      <td>1184.260017</td>\n",
       "      <td>1097.878993</td>\n",
       "      <td>{'lr': 0.005, 'tol': 0.03, 'sequence_length': 5}</td>\n",
       "      <td>93.378316</td>\n",
       "    </tr>\n",
       "    <tr>\n",
       "      <th>7</th>\n",
       "      <td>&lt;dash_app.run_model.Backtest object at 0x7fa8b...</td>\n",
       "      <td>1388.886313</td>\n",
       "      <td>1175.885752</td>\n",
       "      <td>866.166434</td>\n",
       "      <td>{'lr': 0.005, 'tol': 0.025, 'sequence_length':...</td>\n",
       "      <td>224.090617</td>\n",
       "    </tr>\n",
       "  </tbody>\n",
       "</table>\n",
       "</div>"
      ],
      "text/plain": [
       "                                                   bt          max  \\\n",
       "11  <dash_app.run_model.Backtest object at 0x7fa89...  1598.496940   \n",
       "6   <dash_app.run_model.Backtest object at 0x7fa8c...  1471.781040   \n",
       "0   <dash_app.run_model.Backtest object at 0x7fa94...  1461.993237   \n",
       "3   <dash_app.run_model.Backtest object at 0x7fa8d...  1455.500926   \n",
       "2   <dash_app.run_model.Backtest object at 0x7fa90...  1478.969104   \n",
       "4   <dash_app.run_model.Backtest object at 0x7fa8c...  1355.753280   \n",
       "1   <dash_app.run_model.Backtest object at 0x7fa8f...  1455.500926   \n",
       "9   <dash_app.run_model.Backtest object at 0x7fa8a...  1687.896314   \n",
       "5   <dash_app.run_model.Backtest object at 0x7fa8b...  1319.197298   \n",
       "10  <dash_app.run_model.Backtest object at 0x7fa89...  1323.232261   \n",
       "8   <dash_app.run_model.Backtest object at 0x7fa8a...  1313.954887   \n",
       "7   <dash_app.run_model.Backtest object at 0x7fa8b...  1388.886313   \n",
       "\n",
       "           mean          min  \\\n",
       "11  1451.765239  1345.395495   \n",
       "6   1407.297078  1359.231173   \n",
       "0   1401.264787  1342.979652   \n",
       "3   1379.137421  1340.008441   \n",
       "2   1375.043413  1283.495323   \n",
       "4   1330.399922  1314.978195   \n",
       "1   1317.418422  1164.758616   \n",
       "9   1314.653976   951.102463   \n",
       "5   1306.067344  1296.997849   \n",
       "10  1266.678032  1230.377849   \n",
       "8   1184.260017  1097.878993   \n",
       "7   1175.885752   866.166434   \n",
       "\n",
       "                                               params          sd  \n",
       "11  {'lr': 0.005, 'tol': 0.07, 'sequence_length': 10}  107.197329  \n",
       "6   {'lr': 0.005, 'tol': 0.025, 'sequence_length': 5}   47.392212  \n",
       "0   {'lr': 0.001, 'tol': 0.025, 'sequence_length': 5}   48.617800  \n",
       "3   {'lr': 0.001, 'tol': 0.03, 'sequence_length': 10}   54.002691  \n",
       "2    {'lr': 0.001, 'tol': 0.03, 'sequence_length': 5}   80.280357  \n",
       "4    {'lr': 0.001, 'tol': 0.07, 'sequence_length': 5}   18.067095  \n",
       "1   {'lr': 0.001, 'tol': 0.025, 'sequence_length':...  119.141781  \n",
       "9   {'lr': 0.005, 'tol': 0.03, 'sequence_length': 10}  300.872873  \n",
       "5   {'lr': 0.001, 'tol': 0.07, 'sequence_length': 10}    9.506818  \n",
       "10   {'lr': 0.005, 'tol': 0.07, 'sequence_length': 5}   40.522876  \n",
       "8    {'lr': 0.005, 'tol': 0.03, 'sequence_length': 5}   93.378316  \n",
       "7   {'lr': 0.005, 'tol': 0.025, 'sequence_length':...  224.090617  "
      ]
     },
     "execution_count": 19,
     "metadata": {},
     "output_type": "execute_result"
    }
   ],
   "source": [
    "df"
   ]
  },
  {
   "cell_type": "code",
   "execution_count": null,
   "metadata": {
    "collapsed": true
   },
   "outputs": [],
   "source": []
  }
 ],
 "metadata": {
  "kernelspec": {
   "display_name": "Python 3",
   "language": "python",
   "name": "python3"
  },
  "language_info": {
   "codemirror_mode": {
    "name": "ipython",
    "version": 3
   },
   "file_extension": ".py",
   "mimetype": "text/x-python",
   "name": "python",
   "nbconvert_exporter": "python",
   "pygments_lexer": "ipython3",
   "version": "3.5.4"
  }
 },
 "nbformat": 4,
 "nbformat_minor": 2
}
